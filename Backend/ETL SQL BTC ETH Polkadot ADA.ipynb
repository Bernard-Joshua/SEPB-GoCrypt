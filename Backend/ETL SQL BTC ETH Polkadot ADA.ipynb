{
 "cells": [
  {
   "cell_type": "code",
   "execution_count": 3,
   "id": "d18ec9cc",
   "metadata": {},
   "outputs": [
    {
     "data": {
      "text/html": [
       "\n",
       "            <div>\n",
       "                <p><b>SparkSession - in-memory</b></p>\n",
       "                \n",
       "        <div>\n",
       "            <p><b>SparkContext</b></p>\n",
       "\n",
       "            <p><a href=\"http://LAPTOP-B1QA6MOF.mshome.net:4040\">Spark UI</a></p>\n",
       "\n",
       "            <dl>\n",
       "              <dt>Version</dt>\n",
       "                <dd><code>v3.3.0</code></dd>\n",
       "              <dt>Master</dt>\n",
       "                <dd><code>local</code></dd>\n",
       "              <dt>AppName</dt>\n",
       "                <dd><code>ETL to SQL</code></dd>\n",
       "            </dl>\n",
       "        </div>\n",
       "        \n",
       "            </div>\n",
       "        "
      ],
      "text/plain": [
       "<pyspark.sql.session.SparkSession at 0x21a730f0888>"
      ]
     },
     "execution_count": 3,
     "metadata": {},
     "output_type": "execute_result"
    }
   ],
   "source": [
    "#importing essential libraries for pyspark and sql\n",
    "import findspark\n",
    "findspark.init()\n",
    "\n",
    "import pyspark\n",
    "from pyspark.sql import SparkSession\n",
    "from pyspark.sql import Row\n",
    "from pyspark.sql.functions import *\n",
    "import mysql.connector\n",
    "import pandas as pd\n",
    "\n",
    "#create spark session\n",
    "spark = SparkSession.builder.config(\"spark.jars\", \"/home/hduser/mysql-connector-java-5.1.47/mysql-connector-java-5.1.47.jar\") \\\n",
    "    .master(\"local\").appName(\"ETL to SQL\").getOrCreate()\n",
    "spark"
   ]
  },
  {
   "cell_type": "code",
   "execution_count": 8,
   "id": "a17ee7f1",
   "metadata": {},
   "outputs": [],
   "source": [
    "#connecting to localhost sql database\n",
    " \n",
    "mydb = mysql.connector.connect(\n",
    "    host = \"localhost\",\n",
    "    user = \"root\",\n",
    "    password = \"\",\n",
    "    database ='etl'\n",
    ")\n",
    " \n",
    "# Creating an instance of 'cursor' class\n",
    "# which is used to execute the 'SQL'\n",
    "# statements in 'Python'\n",
    "cursor = mydb.cursor()"
   ]
  },
  {
   "cell_type": "code",
   "execution_count": 5,
   "id": "861d10cf",
   "metadata": {},
   "outputs": [],
   "source": [
    "def sql_upload(df,table):\n",
    "    pd_dataframe=df.toPandas()\n",
    "    cursor.execute(\"CREATE IF NOT EXISTS \"+table+\" ( `id` INT NOT NULL AUTO_INCREMENT , `date` DATETIME NOT NULL , `high` DOUBLE NOT NULL , `low` DOUBLE NOT NULL , `close` DOUBLE NOT NULL , PRIMARY KEY (`id`))\")\n",
    "    for index, row in pd_dataframe.iterrows():\n",
    "        cursor.execute(\"INSERT INTO \"+table+\" (date,high,low,close) values(%s,%s,%s,%s)\",(row['date'],row['high'],row['low'],row['close']))\n",
    "        mydb.commit()\n",
    "    print(\"Successfully uploaded to sql table\")"
   ]
  },
  {
   "cell_type": "code",
   "execution_count": 7,
   "id": "47fa2c20",
   "metadata": {
    "scrolled": true
   },
   "outputs": [],
   "source": [
    "btc_df = spark.read.csv('csv\\\\eth.csv', header=True, sep=\",\").cache()"
   ]
  },
  {
   "cell_type": "code",
   "execution_count": 41,
   "id": "4ca13586",
   "metadata": {},
   "outputs": [
    {
     "name": "stdout",
     "output_type": "stream",
     "text": [
      "Successfully uploaded to sql table\n",
      "test\n"
     ]
    }
   ],
   "source": [
    "sql_upload(btc_df,\"ethereum1\")\n",
    "print(\"test\")"
   ]
  },
  {
   "cell_type": "code",
   "execution_count": 30,
   "id": "cafcdd37",
   "metadata": {},
   "outputs": [],
   "source": [
    "eth_df = spark.read.csv('csv\\\\ethereum.csv', header=True, sep=\",\").cache()\n",
    "ada_df = spark.read.csv('csv\\\\cardano.csv', header=True, sep=\",\").cache()\n",
    "polka_df = spark.read.csv('csv\\\\polkadot.csv', header=True, sep=\",\").cache()"
   ]
  },
  {
   "cell_type": "code",
   "execution_count": 31,
   "id": "31e6a229",
   "metadata": {},
   "outputs": [
    {
     "name": "stdout",
     "output_type": "stream",
     "text": [
      "Successfully uploaded to sql table\n",
      "Successfully uploaded to sql table\n",
      "Successfully uploaded to sql table\n"
     ]
    }
   ],
   "source": [
    "sql_upload(eth_df,\"ethereum\")\n",
    "sql_upload(ada_df,\"cardano\")\n",
    "sql_upload(polka_df,\"polkadot\")"
   ]
  },
  {
   "cell_type": "code",
   "execution_count": null,
   "id": "3830d41e",
   "metadata": {},
   "outputs": [],
   "source": []
  }
 ],
 "metadata": {
  "kernelspec": {
   "display_name": "Python 3 (ipykernel)",
   "language": "python",
   "name": "python3"
  },
  "language_info": {
   "codemirror_mode": {
    "name": "ipython",
    "version": 3
   },
   "file_extension": ".py",
   "mimetype": "text/x-python",
   "name": "python",
   "nbconvert_exporter": "python",
   "pygments_lexer": "ipython3",
   "version": "3.7.13"
  }
 },
 "nbformat": 4,
 "nbformat_minor": 5
}
