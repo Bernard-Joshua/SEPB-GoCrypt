{
 "cells": [
  {
   "cell_type": "code",
   "execution_count": 36,
   "id": "d18ec9cc",
   "metadata": {},
   "outputs": [
    {
     "data": {
      "text/html": [
       "\n",
       "            <div>\n",
       "                <p><b>SparkSession - in-memory</b></p>\n",
       "                \n",
       "        <div>\n",
       "            <p><b>SparkContext</b></p>\n",
       "\n",
       "            <p><a href=\"http://LAPTOP-B1QA6MOF.mshome.net:4040\">Spark UI</a></p>\n",
       "\n",
       "            <dl>\n",
       "              <dt>Version</dt>\n",
       "                <dd><code>v3.3.0</code></dd>\n",
       "              <dt>Master</dt>\n",
       "                <dd><code>local</code></dd>\n",
       "              <dt>AppName</dt>\n",
       "                <dd><code>ETL to SQL</code></dd>\n",
       "            </dl>\n",
       "        </div>\n",
       "        \n",
       "            </div>\n",
       "        "
      ],
      "text/plain": [
       "<pyspark.sql.session.SparkSession at 0x1f9b4863c48>"
      ]
     },
     "execution_count": 36,
     "metadata": {},
     "output_type": "execute_result"
    }
   ],
   "source": [
    "#importing essential libraries for pyspark and sql\n",
    "import findspark\n",
    "findspark.init()\n",
    "\n",
    "import pyspark\n",
    "from pyspark.sql import SparkSession\n",
    "from pyspark.sql import Row\n",
    "from pyspark.sql.functions import *\n",
    "import mysql.connector\n",
    "import pandas as pd\n",
    "\n",
    "#create spark session\n",
    "spark = SparkSession.builder.config(\"spark.jars\", \"/home/hduser/mysql-connector-java-5.1.47/mysql-connector-java-5.1.47.jar\") \\\n",
    "    .master(\"local\").appName(\"ETL to SQL\").getOrCreate()\n",
    "spark"
   ]
  },
  {
   "cell_type": "code",
   "execution_count": 37,
   "id": "a17ee7f1",
   "metadata": {},
   "outputs": [
    {
     "name": "stdout",
     "output_type": "stream",
     "text": [
      "('bitcoin',)\n",
      "('bitcoin1',)\n",
      "('bitcoin2',)\n",
      "('cardano',)\n",
      "('crypto',)\n",
      "('ethereum',)\n",
      "('ethereum1',)\n",
      "('newcrypto',)\n",
      "('newcrypto1',)\n",
      "('polkadot',)\n"
     ]
    }
   ],
   "source": [
    "#connecting to localhost sql database\n",
    " \n",
    "mydb = mysql.connector.connect(\n",
    "    host = \"localhost\",\n",
    "    user = \"root\",\n",
    "    password = \"\",\n",
    "    database ='etl'\n",
    ")\n",
    " \n",
    "# Creating an instance of 'cursor' class\n",
    "# which is used to execute the 'SQL'\n",
    "# statements in 'Python'\n",
    "cursor = mydb.cursor()\n",
    " \n",
    "# Show database tables\n",
    "cursor.execute(\"SHOW TABLES\")\n",
    " \n",
    "for x in cursor:\n",
    "  print(x)\n",
    "\n",
    "#cursor.execute(\"INSERT INTO crypto (Name,Symbol,Date,High,Low,Open,Close,Volume,Marketcap) values('test',0,0,0,0,0,0,0,0)\")\n",
    "#mydb.commit()"
   ]
  },
  {
   "cell_type": "code",
   "execution_count": 38,
   "id": "861d10cf",
   "metadata": {},
   "outputs": [],
   "source": [
    "def sql_upload(df,table):\n",
    "    pd_dataframe=df.toPandas()\n",
    "    cursor.execute(\"CREATE IF NOT EXISTS \"+table+\" ( `id` INT NOT NULL AUTO_INCREMENT , `date` DATETIME NOT NULL , `high` DOUBLE NOT NULL , `low` DOUBLE NOT NULL , `open` DOUBLE NOT NULL , `close` DOUBLE NOT NULL , PRIMARY KEY (`id`))\")\n",
    "    for index, row in pd_dataframe.iterrows():\n",
    "        cursor.execute(\"INSERT INTO \"+table+\" (date,high,low,close) values(%s,%s,%s,%s)\",(row['date'],row['high'],row['low'],row['close']))\n",
    "        mydb.commit()\n",
    "    print(\"Successfully uploaded to sql table\")"
   ]
  },
  {
   "cell_type": "code",
   "execution_count": 39,
   "id": "47fa2c20",
   "metadata": {
    "scrolled": true
   },
   "outputs": [
    {
     "name": "stdout",
     "output_type": "stream",
     "text": [
      "+-----------+--------------+--------+-------+-------+-------+-------+----------+-----------+----------+\n",
      "|       unix|          date|  symbol|   open|   high|    low|  close|Volume ETH|Volume USDT|tradecount|\n",
      "+-----------+--------------+--------+-------+-------+-------+-------+----------+-----------+----------+\n",
      "|1.66251E+12| 9/7/2022 0:16|ETH/USDT| 1561.5| 1561.5|1555.82|1556.24|  9295.904|14489151.21|      5017|\n",
      "|1.66251E+12| 9/7/2022 0:15|ETH/USDT|1560.87|1562.76|1560.58|1561.51|  3613.058|5641929.021|      2574|\n",
      "|1.66251E+12| 9/7/2022 0:14|ETH/USDT|1560.98|   1562| 1560.5|1560.88|   1737.46|2712354.052|      1905|\n",
      "|1.66251E+12| 9/7/2022 0:13|ETH/USDT|1561.09|1561.98|1560.01|1560.99|  5846.397|9123574.813|      3255|\n",
      "|1.66251E+12| 9/7/2022 0:12|ETH/USDT|1562.67|1562.67|1561.08|1561.09|  4170.106|6512540.148|      3042|\n",
      "|1.66251E+12| 9/7/2022 0:11|ETH/USDT|1564.26|1564.27|1562.23|1562.66|  3922.347|6131046.954|      2947|\n",
      "|1.66251E+12| 9/7/2022 0:10|ETH/USDT| 1566.1|1566.11|1563.76|1564.27|  4678.883|7320951.107|      2889|\n",
      "|1.66251E+12| 9/7/2022 0:09|ETH/USDT|1565.85|1566.11|1565.28|1566.11| 20481.382|32074805.59|      3821|\n",
      "|1.66251E+12| 9/7/2022 0:08|ETH/USDT|1564.87|1565.87| 1563.7|1565.86|  5355.948|8381946.015|      2899|\n",
      "|1.66251E+12| 9/7/2022 0:07|ETH/USDT|1564.38| 1565.5|1563.62|1564.86|   5212.68|8156293.594|      3474|\n",
      "|1.66251E+12| 9/7/2022 0:06|ETH/USDT|1565.64|1566.82|1563.69|1564.37|  6693.958|10476653.76|      4336|\n",
      "|1.66251E+12| 9/7/2022 0:05|ETH/USDT|1565.56|1567.14|1564.75|1565.64|  7358.035|11522274.78|      5306|\n",
      "|1.66251E+12| 9/7/2022 0:04|ETH/USDT|1562.71|1566.06|1562.71|1565.57| 10757.654|16827556.45|      6883|\n",
      "|1.66251E+12| 9/7/2022 0:03|ETH/USDT|1557.77|   1564|1557.77|1562.72| 12379.604|19330258.89|      6928|\n",
      "|1.66251E+12| 9/7/2022 0:02|ETH/USDT|1555.93|1559.34|1555.26|1557.77|  13935.82|21702185.65|      7167|\n",
      "|1.66251E+12| 9/7/2022 0:01|ETH/USDT|1557.25|1557.64|1554.01| 1555.9| 19099.434|29710022.45|      9452|\n",
      "|1.66251E+12| 9/7/2022 0:00|ETH/USDT|1558.23|1559.94|1555.89|1557.25| 12557.564|19567548.17|      6838|\n",
      "|1.66251E+12|9/6/2022 23:59|ETH/USDT|1556.82|1558.38|1555.82|1558.23|  6455.441|10050011.55|      4409|\n",
      "|1.66251E+12|9/6/2022 23:58|ETH/USDT|1559.64|1559.93|1556.04|1556.83|  8910.403| 13880337.2|      4983|\n",
      "|1.66251E+12|9/6/2022 23:57|ETH/USDT|1557.62|1559.94|1556.88|1559.64|  6251.108|9740701.999|      3766|\n",
      "+-----------+--------------+--------+-------+-------+-------+-------+----------+-----------+----------+\n",
      "only showing top 20 rows\n",
      "\n"
     ]
    }
   ],
   "source": [
    "btc_df = spark.read.csv('csv\\\\ETHUSDT_Binance_futures_2022_minute.csv', header=True, sep=\",\").cache()\n",
    "btc_df.show()"
   ]
  },
  {
   "cell_type": "code",
   "execution_count": 40,
   "id": "57d27b8e",
   "metadata": {},
   "outputs": [
    {
     "data": {
      "text/plain": [
       "Column<'close'>"
      ]
     },
     "execution_count": 40,
     "metadata": {},
     "output_type": "execute_result"
    }
   ],
   "source": [
    "btc_df['close']"
   ]
  },
  {
   "cell_type": "code",
   "execution_count": 41,
   "id": "4ca13586",
   "metadata": {},
   "outputs": [
    {
     "name": "stdout",
     "output_type": "stream",
     "text": [
      "Successfully uploaded to sql table\n",
      "test\n"
     ]
    }
   ],
   "source": [
    "sql_upload(btc_df,\"ethereum1\")\n",
    "print(\"test\")"
   ]
  },
  {
   "cell_type": "code",
   "execution_count": 30,
   "id": "cafcdd37",
   "metadata": {},
   "outputs": [],
   "source": [
    "eth_df = spark.read.csv('csv\\\\ethereum.csv', header=True, sep=\",\").cache()\n",
    "ada_df = spark.read.csv('csv\\\\cardano.csv', header=True, sep=\",\").cache()\n",
    "polka_df = spark.read.csv('csv\\\\polkadot.csv', header=True, sep=\",\").cache()"
   ]
  },
  {
   "cell_type": "code",
   "execution_count": 31,
   "id": "31e6a229",
   "metadata": {},
   "outputs": [
    {
     "name": "stdout",
     "output_type": "stream",
     "text": [
      "Successfully uploaded to sql table\n",
      "Successfully uploaded to sql table\n",
      "Successfully uploaded to sql table\n"
     ]
    }
   ],
   "source": [
    "sql_upload(eth_df,\"ethereum\")\n",
    "sql_upload(ada_df,\"cardano\")\n",
    "sql_upload(polka_df,\"polkadot\")"
   ]
  },
  {
   "cell_type": "code",
   "execution_count": null,
   "id": "3830d41e",
   "metadata": {},
   "outputs": [],
   "source": []
  }
 ],
 "metadata": {
  "kernelspec": {
   "display_name": "Python 3 (ipykernel)",
   "language": "python",
   "name": "python3"
  },
  "language_info": {
   "codemirror_mode": {
    "name": "ipython",
    "version": 3
   },
   "file_extension": ".py",
   "mimetype": "text/x-python",
   "name": "python",
   "nbconvert_exporter": "python",
   "pygments_lexer": "ipython3",
   "version": "3.7.13"
  }
 },
 "nbformat": 4,
 "nbformat_minor": 5
}
