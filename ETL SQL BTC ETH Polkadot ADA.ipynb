{
 "cells": [
  {
   "cell_type": "code",
   "execution_count": 11,
   "id": "d18ec9cc",
   "metadata": {},
   "outputs": [
    {
     "data": {
      "text/html": [
       "\n",
       "            <div>\n",
       "                <p><b>SparkSession - in-memory</b></p>\n",
       "                \n",
       "        <div>\n",
       "            <p><b>SparkContext</b></p>\n",
       "\n",
       "            <p><a href=\"http://LAPTOP-B1QA6MOF.mshome.net:4040\">Spark UI</a></p>\n",
       "\n",
       "            <dl>\n",
       "              <dt>Version</dt>\n",
       "                <dd><code>v3.3.0</code></dd>\n",
       "              <dt>Master</dt>\n",
       "                <dd><code>local</code></dd>\n",
       "              <dt>AppName</dt>\n",
       "                <dd><code>ETL to SQL</code></dd>\n",
       "            </dl>\n",
       "        </div>\n",
       "        \n",
       "            </div>\n",
       "        "
      ],
      "text/plain": [
       "<pyspark.sql.session.SparkSession at 0x1f9b4863c48>"
      ]
     },
     "execution_count": 11,
     "metadata": {},
     "output_type": "execute_result"
    }
   ],
   "source": [
    "#importing essential libraries for pyspark and sql\n",
    "import findspark\n",
    "findspark.init()\n",
    "\n",
    "import pyspark\n",
    "from pyspark.sql import SparkSession\n",
    "from pyspark.sql import Row\n",
    "from pyspark.sql.functions import *\n",
    "import mysql.connector\n",
    "import pandas as pd\n",
    "\n",
    "#create spark session\n",
    "spark = SparkSession.builder.config(\"spark.jars\", \"/home/hduser/mysql-connector-java-5.1.47/mysql-connector-java-5.1.47.jar\") \\\n",
    "    .master(\"local\").appName(\"ETL to SQL\").getOrCreate()\n",
    "spark"
   ]
  },
  {
   "cell_type": "code",
   "execution_count": 12,
   "id": "a17ee7f1",
   "metadata": {},
   "outputs": [
    {
     "name": "stdout",
     "output_type": "stream",
     "text": [
      "('bitcoin',)\n",
      "('bitcoin1',)\n",
      "('cardano',)\n",
      "('crypto',)\n",
      "('ethereum',)\n",
      "('newcrypto',)\n",
      "('newcrypto1',)\n",
      "('polkadot',)\n"
     ]
    }
   ],
   "source": [
    "#connecting to localhost sql database\n",
    " \n",
    "mydb = mysql.connector.connect(\n",
    "    host = \"localhost\",\n",
    "    user = \"root\",\n",
    "    password = \"\",\n",
    "    database ='etl'\n",
    ")\n",
    " \n",
    "# Creating an instance of 'cursor' class\n",
    "# which is used to execute the 'SQL'\n",
    "# statements in 'Python'\n",
    "cursor = mydb.cursor()\n",
    " \n",
    "# Show database tables\n",
    "cursor.execute(\"SHOW TABLES\")\n",
    " \n",
    "for x in cursor:\n",
    "  print(x)\n",
    "\n",
    "#cursor.execute(\"INSERT INTO crypto (Name,Symbol,Date,High,Low,Open,Close,Volume,Marketcap) values('test',0,0,0,0,0,0,0,0)\")\n",
    "#mydb.commit()"
   ]
  },
  {
   "cell_type": "code",
   "execution_count": 13,
   "id": "861d10cf",
   "metadata": {},
   "outputs": [],
   "source": [
    "def sql_upload(df,table):\n",
    "    pd_dataframe=df.toPandas()\n",
    "    for index, row in pd_dataframe.iterrows():\n",
    "        cursor.execute(\"INSERT INTO \"+table+\" (date,high,low,open,close) values(%s,%s,%s,%s,%s)\",(row['Date'],row['High'],row['Low'],row['Open'],row['Close']))\n",
    "        mydb.commit()\n",
    "    print(\"Successfully uploaded to sql table\")"
   ]
  },
  {
   "cell_type": "code",
   "execution_count": 14,
   "id": "47fa2c20",
   "metadata": {},
   "outputs": [
    {
     "name": "stdout",
     "output_type": "stream",
     "text": [
      "+----------+-----+-----+-----+-----+-------+--------+\n",
      "|      Date| Open| High|  Low|Close| Volume|Currency|\n",
      "+----------+-----+-----+-----+-----+-------+--------+\n",
      "|2020-08-21|2.909|3.078|2.909|3.078|1066769|     USD|\n",
      "|2020-08-22|3.078|4.464| 2.97|4.464|4020158|     USD|\n",
      "|2020-08-23|4.451|4.451|3.915|3.977|1560250|     USD|\n",
      "|2020-08-24|3.977| 4.73|3.977|4.594|1559675|     USD|\n",
      "|2020-08-25|4.595| 5.55|4.595| 5.55|3024350|     USD|\n",
      "|2020-08-26| 5.55|6.391| 5.55|6.059|2112266|     USD|\n",
      "|2020-08-27|6.059| 6.57|5.652|5.652|2218474|     USD|\n",
      "|2020-08-28|5.652|6.206|5.652| 6.17|1605011|     USD|\n",
      "|2020-08-29| 6.17|6.291| 6.15| 6.15| 803570|     USD|\n",
      "|2020-08-30| 6.15| 6.15| 5.89| 5.89| 830835|     USD|\n",
      "|2020-08-31|5.898| 6.29|5.898| 6.29| 805931|     USD|\n",
      "|2020-09-01| 6.29|6.627|6.257|6.257|1016741|     USD|\n",
      "|2020-09-02|6.257|6.287|5.927|6.127| 988583|     USD|\n",
      "|2020-09-03|6.127|6.249|5.724|5.724|1228432|     USD|\n",
      "|2020-09-04|5.724|5.893|5.102|5.124|1660662|     USD|\n",
      "|2020-09-05|5.124|5.124|4.131|4.131|3045676|     USD|\n",
      "|2020-09-06|4.131| 4.78|4.131| 4.78|1380088|     USD|\n",
      "|2020-09-07| 4.78| 4.78| 4.05|4.585|1129037|     USD|\n",
      "|2020-09-08|4.585|4.585|4.167|4.271| 731170|     USD|\n",
      "|2020-09-09|4.271| 4.78|4.271|4.696| 787234|     USD|\n",
      "+----------+-----+-----+-----+-----+-------+--------+\n",
      "only showing top 20 rows\n",
      "\n"
     ]
    }
   ],
   "source": [
    "btc_df = spark.read.csv('csv\\\\bitcoin.csv', header=True, sep=\",\").cache()\n",
    "btc_df.show()"
   ]
  },
  {
   "cell_type": "code",
   "execution_count": 15,
   "id": "4ca13586",
   "metadata": {},
   "outputs": [
    {
     "name": "stdout",
     "output_type": "stream",
     "text": [
      "Successfully uploaded to sql table\n",
      "test\n"
     ]
    }
   ],
   "source": [
    "sql_upload(btc_df,\"bitcoin1\")\n",
    "print(\"test\")"
   ]
  },
  {
   "cell_type": "code",
   "execution_count": 30,
   "id": "cafcdd37",
   "metadata": {},
   "outputs": [],
   "source": [
    "eth_df = spark.read.csv('csv\\\\ethereum.csv', header=True, sep=\",\").cache()\n",
    "ada_df = spark.read.csv('csv\\\\cardano.csv', header=True, sep=\",\").cache()\n",
    "polka_df = spark.read.csv('csv\\\\polkadot.csv', header=True, sep=\",\").cache()"
   ]
  },
  {
   "cell_type": "code",
   "execution_count": 31,
   "id": "31e6a229",
   "metadata": {},
   "outputs": [
    {
     "name": "stdout",
     "output_type": "stream",
     "text": [
      "Successfully uploaded to sql table\n",
      "Successfully uploaded to sql table\n",
      "Successfully uploaded to sql table\n"
     ]
    }
   ],
   "source": [
    "sql_upload(eth_df,\"ethereum\")\n",
    "sql_upload(ada_df,\"cardano\")\n",
    "sql_upload(polka_df,\"polkadot\")"
   ]
  },
  {
   "cell_type": "code",
   "execution_count": null,
   "id": "3830d41e",
   "metadata": {},
   "outputs": [],
   "source": []
  }
 ],
 "metadata": {
  "kernelspec": {
   "display_name": "Python 3 (ipykernel)",
   "language": "python",
   "name": "python3"
  },
  "language_info": {
   "codemirror_mode": {
    "name": "ipython",
    "version": 3
   },
   "file_extension": ".py",
   "mimetype": "text/x-python",
   "name": "python",
   "nbconvert_exporter": "python",
   "pygments_lexer": "ipython3",
   "version": "3.7.13"
  }
 },
 "nbformat": 4,
 "nbformat_minor": 5
}
