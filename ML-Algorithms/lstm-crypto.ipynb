{
 "cells": [
  {
   "cell_type": "code",
   "execution_count": 1,
   "metadata": {
    "_cell_guid": "b1076dfc-b9ad-4769-8c92-a6c4dae69d19",
    "_uuid": "8f2839f25d086af736a60e9eeb907d3b93b6e0e5",
    "execution": {
     "iopub.execute_input": "2022-10-25T04:26:00.018970Z",
     "iopub.status.busy": "2022-10-25T04:26:00.018602Z",
     "iopub.status.idle": "2022-10-25T04:26:00.028311Z",
     "shell.execute_reply": "2022-10-25T04:26:00.027091Z",
     "shell.execute_reply.started": "2022-10-25T04:26:00.018935Z"
    }
   },
   "outputs": [],
   "source": [
    "import numpy as np # linear algebra\n",
    "import pandas as pd # data processing, CSV file I/O (e.g. pd.read_csv)\n",
    "import datetime as dt\n",
    "import tensorflow as tf\n",
    "from sklearn.preprocessing import RobustScaler, MinMaxScaler\n",
    "from sklearn.metrics import mean_absolute_error, mean_squared_error\n",
    "from tensorflow.keras import Sequential # Deep learning library, used for neural networks\n",
    "from tensorflow.keras.layers import LSTM, Dense, Dropout # Deep learning classes for recurrent and regular densely-connected layers\n",
    "from tensorflow.keras.callbacks import EarlyStopping # EarlyStopping during model training\n",
    "import math\n",
    "\n",
    "\n",
    "import os\n",
    "for dirname, _, filenames in os.walk('/kaggle/input'):\n",
    "    for filename in filenames:\n",
    "        print(os.path.join(dirname, filename))\n"
   ]
  },
  {
   "cell_type": "markdown",
   "metadata": {},
   "source": [
    "# **Preprosessing**"
   ]
  },
  {
   "cell_type": "code",
   "execution_count": 3,
   "metadata": {
    "execution": {
     "iopub.execute_input": "2022-10-25T04:26:00.046883Z",
     "iopub.status.busy": "2022-10-25T04:26:00.044949Z",
     "iopub.status.idle": "2022-10-25T04:26:00.073176Z",
     "shell.execute_reply": "2022-10-25T04:26:00.072031Z",
     "shell.execute_reply.started": "2022-10-25T04:26:00.046855Z"
    }
   },
   "outputs": [
    {
     "data": {
      "text/html": [
       "<div>\n",
       "<style scoped>\n",
       "    .dataframe tbody tr th:only-of-type {\n",
       "        vertical-align: middle;\n",
       "    }\n",
       "\n",
       "    .dataframe tbody tr th {\n",
       "        vertical-align: top;\n",
       "    }\n",
       "\n",
       "    .dataframe thead th {\n",
       "        text-align: right;\n",
       "    }\n",
       "</style>\n",
       "<table border=\"1\" class=\"dataframe\">\n",
       "  <thead>\n",
       "    <tr style=\"text-align: right;\">\n",
       "      <th></th>\n",
       "      <th>high</th>\n",
       "      <th>low</th>\n",
       "      <th>close</th>\n",
       "    </tr>\n",
       "    <tr>\n",
       "      <th>date</th>\n",
       "      <th></th>\n",
       "      <th></th>\n",
       "      <th></th>\n",
       "    </tr>\n",
       "  </thead>\n",
       "  <tbody>\n",
       "    <tr>\n",
       "      <th>2014-11-28</th>\n",
       "      <td>381.34</td>\n",
       "      <td>360.57</td>\n",
       "      <td>376.28</td>\n",
       "    </tr>\n",
       "    <tr>\n",
       "      <th>2014-11-29</th>\n",
       "      <td>386.60</td>\n",
       "      <td>372.25</td>\n",
       "      <td>376.72</td>\n",
       "    </tr>\n",
       "    <tr>\n",
       "      <th>2014-11-30</th>\n",
       "      <td>381.99</td>\n",
       "      <td>373.32</td>\n",
       "      <td>373.34</td>\n",
       "    </tr>\n",
       "    <tr>\n",
       "      <th>2014-12-01</th>\n",
       "      <td>382.31</td>\n",
       "      <td>373.03</td>\n",
       "      <td>378.39</td>\n",
       "    </tr>\n",
       "    <tr>\n",
       "      <th>2014-12-02</th>\n",
       "      <td>382.86</td>\n",
       "      <td>375.23</td>\n",
       "      <td>379.25</td>\n",
       "    </tr>\n",
       "    <tr>\n",
       "      <th>...</th>\n",
       "      <td>...</td>\n",
       "      <td>...</td>\n",
       "      <td>...</td>\n",
       "    </tr>\n",
       "    <tr>\n",
       "      <th>2022-02-25</th>\n",
       "      <td>39727.97</td>\n",
       "      <td>38027.61</td>\n",
       "      <td>39231.64</td>\n",
       "    </tr>\n",
       "    <tr>\n",
       "      <th>2022-02-26</th>\n",
       "      <td>40330.99</td>\n",
       "      <td>38600.00</td>\n",
       "      <td>39146.66</td>\n",
       "    </tr>\n",
       "    <tr>\n",
       "      <th>2022-02-27</th>\n",
       "      <td>39886.92</td>\n",
       "      <td>37015.74</td>\n",
       "      <td>37712.68</td>\n",
       "    </tr>\n",
       "    <tr>\n",
       "      <th>2022-02-28</th>\n",
       "      <td>44256.08</td>\n",
       "      <td>37468.99</td>\n",
       "      <td>43178.98</td>\n",
       "    </tr>\n",
       "    <tr>\n",
       "      <th>2022-03-01</th>\n",
       "      <td>43626.49</td>\n",
       "      <td>43185.48</td>\n",
       "      <td>43185.48</td>\n",
       "    </tr>\n",
       "  </tbody>\n",
       "</table>\n",
       "<p>2651 rows × 3 columns</p>\n",
       "</div>"
      ],
      "text/plain": [
       "                high       low     close\n",
       "date                                    \n",
       "2014-11-28    381.34    360.57    376.28\n",
       "2014-11-29    386.60    372.25    376.72\n",
       "2014-11-30    381.99    373.32    373.34\n",
       "2014-12-01    382.31    373.03    378.39\n",
       "2014-12-02    382.86    375.23    379.25\n",
       "...              ...       ...       ...\n",
       "2022-02-25  39727.97  38027.61  39231.64\n",
       "2022-02-26  40330.99  38600.00  39146.66\n",
       "2022-02-27  39886.92  37015.74  37712.68\n",
       "2022-02-28  44256.08  37468.99  43178.98\n",
       "2022-03-01  43626.49  43185.48  43185.48\n",
       "\n",
       "[2651 rows x 3 columns]"
      ]
     },
     "execution_count": 3,
     "metadata": {},
     "output_type": "execute_result"
    }
   ],
   "source": [
    "df = pd.read_csv('csv/BTC-Daily.csv')\n",
    "# Removing all unessesary columns ( See Research )\n",
    "df = df = df.drop([\"Volume BTC\", \"unix\",\"Volume USD\", \"symbol\",\"open\"], axis=1)\n",
    "df['date'] = pd.to_datetime(df['date'])\n",
    "df = df.sort_values(by='date')\n",
    "df.index = df.pop(\"date\")\n",
    "df"
   ]
  },
  {
   "cell_type": "markdown",
   "metadata": {},
   "source": [
    "# **Standardization**"
   ]
  },
  {
   "cell_type": "code",
   "execution_count": 4,
   "metadata": {
    "execution": {
     "iopub.execute_input": "2022-10-25T04:26:00.077426Z",
     "iopub.status.busy": "2022-10-25T04:26:00.077140Z",
     "iopub.status.idle": "2022-10-25T04:26:00.088142Z",
     "shell.execute_reply": "2022-10-25T04:26:00.086995Z",
     "shell.execute_reply.started": "2022-10-25T04:26:00.077399Z"
    }
   },
   "outputs": [
    {
     "data": {
      "text/plain": [
       "array([0.00244959, 0.00314943])"
      ]
     },
     "execution_count": 4,
     "metadata": {},
     "output_type": "execute_result"
    }
   ],
   "source": [
    "# Scaler for N-Dimensional Array\n",
    "df_features = df.drop(['close'],axis=1)\n",
    "df_np = df_features.to_numpy()\n",
    "scaler = MinMaxScaler()\n",
    "df_scaled = scaler.fit_transform(df_np, (-1,1))\n",
    "df_scaled[0]"
   ]
  },
  {
   "cell_type": "code",
   "execution_count": 5,
   "metadata": {
    "execution": {
     "iopub.execute_input": "2022-10-25T04:26:00.098770Z",
     "iopub.status.busy": "2022-10-25T04:26:00.098466Z",
     "iopub.status.idle": "2022-10-25T04:26:00.108185Z",
     "shell.execute_reply": "2022-10-25T04:26:00.107156Z",
     "shell.execute_reply.started": "2022-10-25T04:26:00.098733Z"
    }
   },
   "outputs": [
    {
     "data": {
      "text/plain": [
       "array([[0.00317937],\n",
       "       [0.0031859 ],\n",
       "       [0.00313575],\n",
       "       ...,\n",
       "       [0.55715655],\n",
       "       [0.63826253],\n",
       "       [0.63835898]])"
      ]
     },
     "execution_count": 5,
     "metadata": {},
     "output_type": "execute_result"
    }
   ],
   "source": [
    "# Scaler for 1D array\n",
    "df_close = pd.DataFrame(df['close'])\n",
    "df_close_np = df_close.to_numpy()\n",
    "to_inverse_scale = MinMaxScaler()\n",
    "df_close_scale = to_inverse_scale.fit_transform(df_close_np)\n",
    "df_close_scale"
   ]
  },
  {
   "cell_type": "markdown",
   "metadata": {},
   "source": [
    "# **Converting Data to 3 Dimensions **"
   ]
  },
  {
   "cell_type": "code",
   "execution_count": 6,
   "metadata": {
    "execution": {
     "iopub.execute_input": "2022-10-25T04:26:00.124984Z",
     "iopub.status.busy": "2022-10-25T04:26:00.124715Z",
     "iopub.status.idle": "2022-10-25T04:26:00.136683Z",
     "shell.execute_reply": "2022-10-25T04:26:00.135661Z",
     "shell.execute_reply.started": "2022-10-25T04:26:00.124959Z"
    }
   },
   "outputs": [],
   "source": [
    "x = [] # The features needed for prediction.\n",
    "y = [] # The expected result.\n",
    "\n",
    "for i in range(len(df_scaled)-6):\n",
    "    x.append(df_scaled[i:i+6])\n",
    "\n",
    "for i in range(len(df_close_scale)-1):\n",
    "        y.append(df_close_scale[i][0])\n",
    "\n",
    "\n",
    "# Converting to Numpy array for easier reading by the ML-Algorithm\n",
    "X = np.array(x)\n",
    "Y = np.array(y)\n",
    "\n",
    "\n"
   ]
  },
  {
   "cell_type": "markdown",
   "metadata": {},
   "source": [
    "# **Splitting the Data (Train/Test)**"
   ]
  },
  {
   "cell_type": "code",
   "execution_count": 7,
   "metadata": {
    "execution": {
     "iopub.execute_input": "2022-10-25T04:26:00.151222Z",
     "iopub.status.busy": "2022-10-25T04:26:00.150175Z",
     "iopub.status.idle": "2022-10-25T04:26:00.156691Z",
     "shell.execute_reply": "2022-10-25T04:26:00.155539Z",
     "shell.execute_reply.started": "2022-10-25T04:26:00.151186Z"
    }
   },
   "outputs": [],
   "source": [
    "train_no = math.floor(len(X) * 0.7) # 70% for training, 30% For Testing\n",
    "total_no = len(X) \n",
    "X_Train, Y_Train = X[:train_no][:train_no], Y[:train_no]\n",
    "X_Test, Y_Test = X[train_no: total_no - 1], Y[train_no: total_no - 1]"
   ]
  },
  {
   "cell_type": "code",
   "execution_count": 8,
   "metadata": {
    "execution": {
     "iopub.execute_input": "2022-10-25T04:26:00.202628Z",
     "iopub.status.busy": "2022-10-25T04:26:00.202363Z",
     "iopub.status.idle": "2022-10-25T04:26:00.207752Z",
     "shell.execute_reply": "2022-10-25T04:26:00.206704Z",
     "shell.execute_reply.started": "2022-10-25T04:26:00.202604Z"
    }
   },
   "outputs": [
    {
     "name": "stdout",
     "output_type": "stream",
     "text": [
      "(1851, 6, 2) (1851,)\n",
      "(793, 6, 2) (793,)\n"
     ]
    }
   ],
   "source": [
    "print(X_Train.shape, Y_Train.shape)\n",
    "print(X_Test.shape, Y_Test.shape)"
   ]
  },
  {
   "cell_type": "code",
   "execution_count": 9,
   "metadata": {
    "execution": {
     "iopub.execute_input": "2022-10-25T04:26:00.227100Z",
     "iopub.status.busy": "2022-10-25T04:26:00.226333Z",
     "iopub.status.idle": "2022-10-25T04:26:00.232196Z",
     "shell.execute_reply": "2022-10-25T04:26:00.231234Z",
     "shell.execute_reply.started": "2022-10-25T04:26:00.227066Z"
    }
   },
   "outputs": [],
   "source": [
    "X_Train, Y_Train = X[:train_no], Y[:train_no]\n",
    "X_Test, Y_Test = X[train_no: total_no - 1], Y[train_no: total_no - 1]"
   ]
  },
  {
   "cell_type": "code",
   "execution_count": 10,
   "metadata": {},
   "outputs": [],
   "source": [
    "#loading model\n",
    "import keras\n"
   ]
  },
  {
   "cell_type": "code",
   "execution_count": 13,
   "metadata": {},
   "outputs": [],
   "source": [
    "reconstruct_model=keras.models.load_model(\"C:\\\\Users\\\\Lionel Jr\\\\Downloads\\\\SEPB-GoCrypt-Backend-Bernard-LSTM-Base\\\\ML-Algorithms\\\\SEPB_Model\")"
   ]
  },
  {
   "cell_type": "code",
   "execution_count": null,
   "metadata": {},
   "outputs": [],
   "source": []
  },
  {
   "cell_type": "markdown",
   "metadata": {},
   "source": [
    "# **Developing The Model**"
   ]
  },
  {
   "cell_type": "markdown",
   "metadata": {},
   "source": [
    "# **Testing the Model**"
   ]
  },
  {
   "cell_type": "code",
   "execution_count": 14,
   "metadata": {
    "execution": {
     "iopub.execute_input": "2022-10-25T04:27:33.886077Z",
     "iopub.status.busy": "2022-10-25T04:27:33.885463Z",
     "iopub.status.idle": "2022-10-25T04:27:34.770270Z",
     "shell.execute_reply": "2022-10-25T04:27:34.769180Z",
     "shell.execute_reply.started": "2022-10-25T04:27:33.886036Z"
    }
   },
   "outputs": [
    {
     "name": "stdout",
     "output_type": "stream",
     "text": [
      "25/25 [==============================] - 1s 3ms/step\n"
     ]
    }
   ],
   "source": [
    "predictions = reconstruct_model.predict(X_Test)\n",
    "predictions = to_inverse_scale.inverse_transform(predictions) # Reverse the standardization.\n"
   ]
  },
  {
   "cell_type": "code",
   "execution_count": 15,
   "metadata": {
    "execution": {
     "iopub.execute_input": "2022-10-25T04:28:24.788688Z",
     "iopub.status.busy": "2022-10-25T04:28:24.788159Z",
     "iopub.status.idle": "2022-10-25T04:28:24.797713Z",
     "shell.execute_reply": "2022-10-25T04:28:24.796213Z",
     "shell.execute_reply.started": "2022-10-25T04:28:24.788656Z"
    }
   },
   "outputs": [],
   "source": [
    "# Putting the predictions in an array to convert into dataframe column later.\n",
    "valid = []\n",
    "for i in range(len(predictions)):\n",
    "    valid.append(predictions[i][9]) # Using the final prediction in the array.\n",
    "    "
   ]
  },
  {
   "cell_type": "markdown",
   "metadata": {},
   "source": [
    "# **Validating the Results**"
   ]
  },
  {
   "cell_type": "code",
   "execution_count": 16,
   "metadata": {
    "execution": {
     "iopub.execute_input": "2022-10-25T04:28:28.622513Z",
     "iopub.status.busy": "2022-10-25T04:28:28.622131Z",
     "iopub.status.idle": "2022-10-25T04:28:28.639217Z",
     "shell.execute_reply": "2022-10-25T04:28:28.638151Z",
     "shell.execute_reply.started": "2022-10-25T04:28:28.622462Z"
    }
   },
   "outputs": [
    {
     "data": {
      "text/html": [
       "<div>\n",
       "<style scoped>\n",
       "    .dataframe tbody tr th:only-of-type {\n",
       "        vertical-align: middle;\n",
       "    }\n",
       "\n",
       "    .dataframe tbody tr th {\n",
       "        vertical-align: top;\n",
       "    }\n",
       "\n",
       "    .dataframe thead th {\n",
       "        text-align: right;\n",
       "    }\n",
       "</style>\n",
       "<table border=\"1\" class=\"dataframe\">\n",
       "  <thead>\n",
       "    <tr style=\"text-align: right;\">\n",
       "      <th></th>\n",
       "      <th>close</th>\n",
       "      <th>Prediction</th>\n",
       "    </tr>\n",
       "    <tr>\n",
       "      <th>date</th>\n",
       "      <th></th>\n",
       "      <th></th>\n",
       "    </tr>\n",
       "  </thead>\n",
       "  <tbody>\n",
       "    <tr>\n",
       "      <th>2019-12-23</th>\n",
       "      <td>7316.17</td>\n",
       "      <td>7497.631348</td>\n",
       "    </tr>\n",
       "    <tr>\n",
       "      <th>2019-12-24</th>\n",
       "      <td>7251.52</td>\n",
       "      <td>7317.235840</td>\n",
       "    </tr>\n",
       "    <tr>\n",
       "      <th>2019-12-25</th>\n",
       "      <td>7195.79</td>\n",
       "      <td>7216.636719</td>\n",
       "    </tr>\n",
       "    <tr>\n",
       "      <th>2019-12-26</th>\n",
       "      <td>7188.30</td>\n",
       "      <td>7313.532715</td>\n",
       "    </tr>\n",
       "    <tr>\n",
       "      <th>2019-12-27</th>\n",
       "      <td>7246.00</td>\n",
       "      <td>7180.508789</td>\n",
       "    </tr>\n",
       "    <tr>\n",
       "      <th>...</th>\n",
       "      <td>...</td>\n",
       "      <td>...</td>\n",
       "    </tr>\n",
       "    <tr>\n",
       "      <th>2022-02-18</th>\n",
       "      <td>39996.99</td>\n",
       "      <td>27896.720703</td>\n",
       "    </tr>\n",
       "    <tr>\n",
       "      <th>2022-02-19</th>\n",
       "      <td>40109.02</td>\n",
       "      <td>27881.667969</td>\n",
       "    </tr>\n",
       "    <tr>\n",
       "      <th>2022-02-20</th>\n",
       "      <td>38373.90</td>\n",
       "      <td>27848.939453</td>\n",
       "    </tr>\n",
       "    <tr>\n",
       "      <th>2022-02-21</th>\n",
       "      <td>37076.60</td>\n",
       "      <td>27822.656250</td>\n",
       "    </tr>\n",
       "    <tr>\n",
       "      <th>2022-02-22</th>\n",
       "      <td>38269.94</td>\n",
       "      <td>27807.523438</td>\n",
       "    </tr>\n",
       "  </tbody>\n",
       "</table>\n",
       "<p>793 rows × 2 columns</p>\n",
       "</div>"
      ],
      "text/plain": [
       "               close    Prediction\n",
       "date                              \n",
       "2019-12-23   7316.17   7497.631348\n",
       "2019-12-24   7251.52   7317.235840\n",
       "2019-12-25   7195.79   7216.636719\n",
       "2019-12-26   7188.30   7313.532715\n",
       "2019-12-27   7246.00   7180.508789\n",
       "...              ...           ...\n",
       "2022-02-18  39996.99  27896.720703\n",
       "2022-02-19  40109.02  27881.667969\n",
       "2022-02-20  38373.90  27848.939453\n",
       "2022-02-21  37076.60  27822.656250\n",
       "2022-02-22  38269.94  27807.523438\n",
       "\n",
       "[793 rows x 2 columns]"
      ]
     },
     "execution_count": 16,
     "metadata": {},
     "output_type": "execute_result"
    }
   ],
   "source": [
    "new_df = pd.DataFrame(df[train_no: total_no - 1])\n",
    "\n",
    "new_df = new_df.drop([\"high\",\"low\"], axis=1)\n",
    "\n",
    "new_df['Prediction'] = valid\n",
    "\n",
    "\n",
    "new_df"
   ]
  },
  {
   "cell_type": "code",
   "execution_count": 17,
   "metadata": {
    "execution": {
     "iopub.execute_input": "2022-10-25T04:27:52.336209Z",
     "iopub.status.busy": "2022-10-25T04:27:52.335776Z",
     "iopub.status.idle": "2022-10-25T04:27:52.681014Z",
     "shell.execute_reply": "2022-10-25T04:27:52.680125Z",
     "shell.execute_reply.started": "2022-10-25T04:27:52.336172Z"
    }
   },
   "outputs": [
    {
     "data": {
      "text/plain": [
       "<AxesSubplot:xlabel='date'>"
      ]
     },
     "execution_count": 17,
     "metadata": {},
     "output_type": "execute_result"
    },
    {
     "data": {
      "image/png": "[encoded data removed]",
      "text/plain": [
       "<Figure size 640x480 with 1 Axes>"
      ]
     },
     "metadata": {},
     "output_type": "display_data"
    }
   ],
   "source": [
    "new_df.plot()"
   ]
  },
  {
   "cell_type": "code",
   "execution_count": 18,
   "metadata": {
    "execution": {
     "iopub.execute_input": "2022-10-25T04:28:00.853649Z",
     "iopub.status.busy": "2022-10-25T04:28:00.853273Z",
     "iopub.status.idle": "2022-10-25T04:28:00.866241Z",
     "shell.execute_reply": "2022-10-25T04:28:00.864992Z",
     "shell.execute_reply.started": "2022-10-25T04:28:00.853617Z"
    }
   },
   "outputs": [
    {
     "data": {
      "text/html": [
       "<div>\n",
       "<style scoped>\n",
       "    .dataframe tbody tr th:only-of-type {\n",
       "        vertical-align: middle;\n",
       "    }\n",
       "\n",
       "    .dataframe tbody tr th {\n",
       "        vertical-align: top;\n",
       "    }\n",
       "\n",
       "    .dataframe thead th {\n",
       "        text-align: right;\n",
       "    }\n",
       "</style>\n",
       "<table border=\"1\" class=\"dataframe\">\n",
       "  <thead>\n",
       "    <tr style=\"text-align: right;\">\n",
       "      <th></th>\n",
       "      <th>close</th>\n",
       "      <th>Prediction</th>\n",
       "    </tr>\n",
       "  </thead>\n",
       "  <tbody>\n",
       "    <tr>\n",
       "      <th>close</th>\n",
       "      <td>1.000000</td>\n",
       "      <td>0.935012</td>\n",
       "    </tr>\n",
       "    <tr>\n",
       "      <th>Prediction</th>\n",
       "      <td>0.935012</td>\n",
       "      <td>1.000000</td>\n",
       "    </tr>\n",
       "  </tbody>\n",
       "</table>\n",
       "</div>"
      ],
      "text/plain": [
       "               close  Prediction\n",
       "close       1.000000    0.935012\n",
       "Prediction  0.935012    1.000000"
      ]
     },
     "execution_count": 18,
     "metadata": {},
     "output_type": "execute_result"
    }
   ],
   "source": [
    "new_df.corr() # Accuracy around 99.5%"
   ]
  },
  {
   "cell_type": "code",
   "execution_count": 19,
   "metadata": {
    "execution": {
     "iopub.execute_input": "2022-10-25T04:30:06.449378Z",
     "iopub.status.busy": "2022-10-25T04:30:06.448308Z",
     "iopub.status.idle": "2022-10-25T04:30:06.498243Z",
     "shell.execute_reply": "2022-10-25T04:30:06.497315Z",
     "shell.execute_reply.started": "2022-10-25T04:30:06.449338Z"
    }
   },
   "outputs": [
    {
     "name": "stdout",
     "output_type": "stream",
     "text": [
      "1/1 [==============================] - 0s 29ms/step\n"
     ]
    },
    {
     "data": {
      "text/plain": [
       "[27966.945, 27896.72, 27881.668, 27848.94, 27822.656, 27807.523]"
      ]
     },
     "execution_count": 19,
     "metadata": {},
     "output_type": "execute_result"
    }
   ],
   "source": [
    "test = X_Test[787:]\n",
    "\n",
    "tests = reconstruct_model.predict(test)\n",
    "tests =to_inverse_scale.inverse_transform(tests)\n",
    "t = []\n",
    "for i in range(len(tests)):\n",
    "    t.append(tests[i][9])\n",
    "\n",
    "t"
   ]
  },
  {
   "cell_type": "code",
   "execution_count": null,
   "metadata": {},
   "outputs": [],
   "source": []
  }
 ],
 "metadata": {
  "kernelspec": {
   "display_name": "Python 3 (ipykernel)",
   "language": "python",
   "name": "python3"
  },
  "language_info": {
   "codemirror_mode": {
    "name": "ipython",
    "version": 3
   },
   "file_extension": ".py",
   "mimetype": "text/x-python",
   "name": "python",
   "nbconvert_exporter": "python",
   "pygments_lexer": "ipython3",
   "version": "3.7.13"
  }
 },
 "nbformat": 4,
 "nbformat_minor": 4
}
