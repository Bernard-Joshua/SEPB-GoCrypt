{
 "cells": [
  {
   "cell_type": "code",
   "execution_count": 30,
   "metadata": {
    "_cell_guid": "b1076dfc-b9ad-4769-8c92-a6c4dae69d19",
    "_uuid": "8f2839f25d086af736a60e9eeb907d3b93b6e0e5",
    "execution": {
     "iopub.execute_input": "2022-10-25T04:26:00.018970Z",
     "iopub.status.busy": "2022-10-25T04:26:00.018602Z",
     "iopub.status.idle": "2022-10-25T04:26:00.028311Z",
     "shell.execute_reply": "2022-10-25T04:26:00.027091Z",
     "shell.execute_reply.started": "2022-10-25T04:26:00.018935Z"
    }
   },
   "outputs": [
    {
     "name": "stdout",
     "output_type": "stream",
     "text": [
      "('bitcoin',)\n",
      "('crypto',)\n"
     ]
    },
    {
     "data": {
      "text/html": [
       "<div>\n",
       "<style scoped>\n",
       "    .dataframe tbody tr th:only-of-type {\n",
       "        vertical-align: middle;\n",
       "    }\n",
       "\n",
       "    .dataframe tbody tr th {\n",
       "        vertical-align: top;\n",
       "    }\n",
       "\n",
       "    .dataframe thead th {\n",
       "        text-align: right;\n",
       "    }\n",
       "</style>\n",
       "<table border=\"1\" class=\"dataframe\">\n",
       "  <thead>\n",
       "    <tr style=\"text-align: right;\">\n",
       "      <th></th>\n",
       "      <th>unix</th>\n",
       "      <th>date</th>\n",
       "      <th>symbol</th>\n",
       "      <th>open</th>\n",
       "      <th>high</th>\n",
       "      <th>low</th>\n",
       "      <th>close</th>\n",
       "      <th>Volume BTC</th>\n",
       "      <th>Volume USD</th>\n",
       "    </tr>\n",
       "  </thead>\n",
       "  <tbody>\n",
       "    <tr>\n",
       "      <th>0</th>\n",
       "      <td>1646092800</td>\n",
       "      <td>2022-03-01 00:00:00</td>\n",
       "      <td>BTC/USD</td>\n",
       "      <td>43221.71</td>\n",
       "      <td>43626.49</td>\n",
       "      <td>43185.48</td>\n",
       "      <td>43185.48</td>\n",
       "      <td>4.900629e+01</td>\n",
       "      <td>2.116360e+06</td>\n",
       "    </tr>\n",
       "    <tr>\n",
       "      <th>1</th>\n",
       "      <td>1646006400</td>\n",
       "      <td>2022-02-28 00:00:00</td>\n",
       "      <td>BTC/USD</td>\n",
       "      <td>37717.10</td>\n",
       "      <td>44256.08</td>\n",
       "      <td>37468.99</td>\n",
       "      <td>43178.98</td>\n",
       "      <td>3.160618e+03</td>\n",
       "      <td>1.364723e+08</td>\n",
       "    </tr>\n",
       "    <tr>\n",
       "      <th>2</th>\n",
       "      <td>1645920000</td>\n",
       "      <td>2022-02-27 00:00:00</td>\n",
       "      <td>BTC/USD</td>\n",
       "      <td>39146.66</td>\n",
       "      <td>39886.92</td>\n",
       "      <td>37015.74</td>\n",
       "      <td>37712.68</td>\n",
       "      <td>1.701817e+03</td>\n",
       "      <td>6.418008e+07</td>\n",
       "    </tr>\n",
       "    <tr>\n",
       "      <th>3</th>\n",
       "      <td>1645833600</td>\n",
       "      <td>2022-02-26 00:00:00</td>\n",
       "      <td>BTC/USD</td>\n",
       "      <td>39242.64</td>\n",
       "      <td>40330.99</td>\n",
       "      <td>38600.00</td>\n",
       "      <td>39146.66</td>\n",
       "      <td>9.127241e+02</td>\n",
       "      <td>3.573010e+07</td>\n",
       "    </tr>\n",
       "    <tr>\n",
       "      <th>4</th>\n",
       "      <td>1645747200</td>\n",
       "      <td>2022-02-25 00:00:00</td>\n",
       "      <td>BTC/USD</td>\n",
       "      <td>38360.93</td>\n",
       "      <td>39727.97</td>\n",
       "      <td>38027.61</td>\n",
       "      <td>39231.64</td>\n",
       "      <td>2.202852e+03</td>\n",
       "      <td>8.642149e+07</td>\n",
       "    </tr>\n",
       "    <tr>\n",
       "      <th>...</th>\n",
       "      <td>...</td>\n",
       "      <td>...</td>\n",
       "      <td>...</td>\n",
       "      <td>...</td>\n",
       "      <td>...</td>\n",
       "      <td>...</td>\n",
       "      <td>...</td>\n",
       "      <td>...</td>\n",
       "      <td>...</td>\n",
       "    </tr>\n",
       "    <tr>\n",
       "      <th>2646</th>\n",
       "      <td>1417478400</td>\n",
       "      <td>2014-12-02 00:00:00</td>\n",
       "      <td>BTC/USD</td>\n",
       "      <td>378.39</td>\n",
       "      <td>382.86</td>\n",
       "      <td>375.23</td>\n",
       "      <td>379.25</td>\n",
       "      <td>2.593576e+06</td>\n",
       "      <td>6.832530e+03</td>\n",
       "    </tr>\n",
       "    <tr>\n",
       "      <th>2647</th>\n",
       "      <td>1417392000</td>\n",
       "      <td>2014-12-01 00:00:00</td>\n",
       "      <td>BTC/USD</td>\n",
       "      <td>376.40</td>\n",
       "      <td>382.31</td>\n",
       "      <td>373.03</td>\n",
       "      <td>378.39</td>\n",
       "      <td>2.520662e+06</td>\n",
       "      <td>6.660560e+03</td>\n",
       "    </tr>\n",
       "    <tr>\n",
       "      <th>2648</th>\n",
       "      <td>1417305600</td>\n",
       "      <td>2014-11-30 00:00:00</td>\n",
       "      <td>BTC/USD</td>\n",
       "      <td>376.57</td>\n",
       "      <td>381.99</td>\n",
       "      <td>373.32</td>\n",
       "      <td>373.34</td>\n",
       "      <td>1.145567e+06</td>\n",
       "      <td>3.046330e+03</td>\n",
       "    </tr>\n",
       "    <tr>\n",
       "      <th>2649</th>\n",
       "      <td>1417219200</td>\n",
       "      <td>2014-11-29 00:00:00</td>\n",
       "      <td>BTC/USD</td>\n",
       "      <td>376.42</td>\n",
       "      <td>386.60</td>\n",
       "      <td>372.25</td>\n",
       "      <td>376.72</td>\n",
       "      <td>2.746157e+06</td>\n",
       "      <td>7.245190e+03</td>\n",
       "    </tr>\n",
       "    <tr>\n",
       "      <th>2650</th>\n",
       "      <td>1417132800</td>\n",
       "      <td>2014-11-28 00:00:00</td>\n",
       "      <td>BTC/USD</td>\n",
       "      <td>363.59</td>\n",
       "      <td>381.34</td>\n",
       "      <td>360.57</td>\n",
       "      <td>376.28</td>\n",
       "      <td>3.220878e+06</td>\n",
       "      <td>8.617150e+03</td>\n",
       "    </tr>\n",
       "  </tbody>\n",
       "</table>\n",
       "<p>2651 rows × 9 columns</p>\n",
       "</div>"
      ],
      "text/plain": [
       "            unix                 date   symbol      open      high       low  \\\n",
       "0     1646092800  2022-03-01 00:00:00  BTC/USD  43221.71  43626.49  43185.48   \n",
       "1     1646006400  2022-02-28 00:00:00  BTC/USD  37717.10  44256.08  37468.99   \n",
       "2     1645920000  2022-02-27 00:00:00  BTC/USD  39146.66  39886.92  37015.74   \n",
       "3     1645833600  2022-02-26 00:00:00  BTC/USD  39242.64  40330.99  38600.00   \n",
       "4     1645747200  2022-02-25 00:00:00  BTC/USD  38360.93  39727.97  38027.61   \n",
       "...          ...                  ...      ...       ...       ...       ...   \n",
       "2646  1417478400  2014-12-02 00:00:00  BTC/USD    378.39    382.86    375.23   \n",
       "2647  1417392000  2014-12-01 00:00:00  BTC/USD    376.40    382.31    373.03   \n",
       "2648  1417305600  2014-11-30 00:00:00  BTC/USD    376.57    381.99    373.32   \n",
       "2649  1417219200  2014-11-29 00:00:00  BTC/USD    376.42    386.60    372.25   \n",
       "2650  1417132800  2014-11-28 00:00:00  BTC/USD    363.59    381.34    360.57   \n",
       "\n",
       "         close    Volume BTC    Volume USD  \n",
       "0     43185.48  4.900629e+01  2.116360e+06  \n",
       "1     43178.98  3.160618e+03  1.364723e+08  \n",
       "2     37712.68  1.701817e+03  6.418008e+07  \n",
       "3     39146.66  9.127241e+02  3.573010e+07  \n",
       "4     39231.64  2.202852e+03  8.642149e+07  \n",
       "...        ...           ...           ...  \n",
       "2646    379.25  2.593576e+06  6.832530e+03  \n",
       "2647    378.39  2.520662e+06  6.660560e+03  \n",
       "2648    373.34  1.145567e+06  3.046330e+03  \n",
       "2649    376.72  2.746157e+06  7.245190e+03  \n",
       "2650    376.28  3.220878e+06  8.617150e+03  \n",
       "\n",
       "[2651 rows x 9 columns]"
      ]
     },
     "execution_count": 30,
     "metadata": {},
     "output_type": "execute_result"
    }
   ],
   "source": [
    "import numpy as np # linear algebra\n",
    "import pandas as pd # data processing, CSV file I/O (e.g. pd.read_csv)\n",
    "import datetime as dt\n",
    "import tensorflow as tf\n",
    "from sklearn.preprocessing import RobustScaler, MinMaxScaler\n",
    "from sklearn.metrics import mean_absolute_error, mean_squared_error\n",
    "from tensorflow.keras import Sequential # Deep learning library, used for neural networks\n",
    "from tensorflow.keras.layers import LSTM, Dense, Dropout # Deep learning classes for recurrent and regular densely-connected layers\n",
    "from tensorflow.keras.callbacks import EarlyStopping # EarlyStopping during model training\n",
    "import math\n",
    "import mysql.connector\n",
    "\n",
    "mydb = mysql.connector.connect(\n",
    "    host = \"localhost\",\n",
    "    user = \"root\",\n",
    "    password = \"\",\n",
    "    database ='etl'\n",
    ")\n",
    " \n",
    "# Creating an instance of 'cursor' class\n",
    "# which is used to execute the 'SQL'\n",
    "# statements in 'Python'\n",
    "cursor = mydb.cursor()\n",
    " \n",
    "# Show database tables\n",
    "cursor.execute(\"SHOW TABLES\")\n",
    " \n",
    "for x in cursor:\n",
    "  print(x)\n",
    "\n",
    "def sql_upload(pd_dataframe):\n",
    "    for index, row in pd_dataframe.iterrows():\n",
    "        cursor.execute(\"INSERT INTO bitcoin (unix,date,symbol,open,high,low,close,Volume_BTC,Volume_USD) values(%s,%s,%s,%s,%s,%s,%s,%s,%s)\",(row['unix'],row['date'],row['symbol'],row['open'],row['high'],row['low'],row['close'],row['Volume BTC'],row['Volume USD']))\n",
    "        mydb.commit()\n",
    "    print(\"Successfully uploaded to sql table\")\n",
    "    \n",
    "    \n",
    "df = pd.read_csv('csv/BTC-Daily.csv')\n",
    "df"
   ]
  },
  {
   "cell_type": "code",
   "execution_count": 31,
   "metadata": {},
   "outputs": [],
   "source": [
    "#Uploading to SQL \n",
    "#sql_upload(df)"
   ]
  },
  {
   "cell_type": "code",
   "execution_count": 32,
   "metadata": {},
   "outputs": [
    {
     "data": {
      "text/html": [
       "<div>\n",
       "<style scoped>\n",
       "    .dataframe tbody tr th:only-of-type {\n",
       "        vertical-align: middle;\n",
       "    }\n",
       "\n",
       "    .dataframe tbody tr th {\n",
       "        vertical-align: top;\n",
       "    }\n",
       "\n",
       "    .dataframe thead th {\n",
       "        text-align: right;\n",
       "    }\n",
       "</style>\n",
       "<table border=\"1\" class=\"dataframe\">\n",
       "  <thead>\n",
       "    <tr style=\"text-align: right;\">\n",
       "      <th></th>\n",
       "      <th>unix</th>\n",
       "      <th>date</th>\n",
       "      <th>symbol</th>\n",
       "      <th>open</th>\n",
       "      <th>high</th>\n",
       "      <th>low</th>\n",
       "      <th>close</th>\n",
       "      <th>Volume_BTC</th>\n",
       "      <th>Volume_USD</th>\n",
       "    </tr>\n",
       "  </thead>\n",
       "  <tbody>\n",
       "    <tr>\n",
       "      <th>0</th>\n",
       "      <td>1417132800</td>\n",
       "      <td>2014-11-28</td>\n",
       "      <td>BTC/USD</td>\n",
       "      <td>363.59</td>\n",
       "      <td>381.34</td>\n",
       "      <td>360.57</td>\n",
       "      <td>376.28</td>\n",
       "      <td>3.220878e+06</td>\n",
       "      <td>8.617150e+03</td>\n",
       "    </tr>\n",
       "    <tr>\n",
       "      <th>1</th>\n",
       "      <td>1417219200</td>\n",
       "      <td>2014-11-29</td>\n",
       "      <td>BTC/USD</td>\n",
       "      <td>376.42</td>\n",
       "      <td>386.60</td>\n",
       "      <td>372.25</td>\n",
       "      <td>376.72</td>\n",
       "      <td>2.746157e+06</td>\n",
       "      <td>7.245190e+03</td>\n",
       "    </tr>\n",
       "    <tr>\n",
       "      <th>2</th>\n",
       "      <td>1417305600</td>\n",
       "      <td>2014-11-30</td>\n",
       "      <td>BTC/USD</td>\n",
       "      <td>376.57</td>\n",
       "      <td>381.99</td>\n",
       "      <td>373.32</td>\n",
       "      <td>373.34</td>\n",
       "      <td>1.145567e+06</td>\n",
       "      <td>3.046330e+03</td>\n",
       "    </tr>\n",
       "    <tr>\n",
       "      <th>3</th>\n",
       "      <td>1417392000</td>\n",
       "      <td>2014-12-01</td>\n",
       "      <td>BTC/USD</td>\n",
       "      <td>376.40</td>\n",
       "      <td>382.31</td>\n",
       "      <td>373.03</td>\n",
       "      <td>378.39</td>\n",
       "      <td>2.520662e+06</td>\n",
       "      <td>6.660560e+03</td>\n",
       "    </tr>\n",
       "    <tr>\n",
       "      <th>4</th>\n",
       "      <td>1417478400</td>\n",
       "      <td>2014-12-02</td>\n",
       "      <td>BTC/USD</td>\n",
       "      <td>378.39</td>\n",
       "      <td>382.86</td>\n",
       "      <td>375.23</td>\n",
       "      <td>379.25</td>\n",
       "      <td>2.593576e+06</td>\n",
       "      <td>6.832530e+03</td>\n",
       "    </tr>\n",
       "    <tr>\n",
       "      <th>...</th>\n",
       "      <td>...</td>\n",
       "      <td>...</td>\n",
       "      <td>...</td>\n",
       "      <td>...</td>\n",
       "      <td>...</td>\n",
       "      <td>...</td>\n",
       "      <td>...</td>\n",
       "      <td>...</td>\n",
       "      <td>...</td>\n",
       "    </tr>\n",
       "    <tr>\n",
       "      <th>2646</th>\n",
       "      <td>1645747200</td>\n",
       "      <td>2022-02-25</td>\n",
       "      <td>BTC/USD</td>\n",
       "      <td>38360.93</td>\n",
       "      <td>39727.97</td>\n",
       "      <td>38027.61</td>\n",
       "      <td>39231.64</td>\n",
       "      <td>2.202852e+03</td>\n",
       "      <td>8.642149e+07</td>\n",
       "    </tr>\n",
       "    <tr>\n",
       "      <th>2647</th>\n",
       "      <td>1645833600</td>\n",
       "      <td>2022-02-26</td>\n",
       "      <td>BTC/USD</td>\n",
       "      <td>39242.64</td>\n",
       "      <td>40330.99</td>\n",
       "      <td>38600.00</td>\n",
       "      <td>39146.66</td>\n",
       "      <td>9.127241e+02</td>\n",
       "      <td>3.573010e+07</td>\n",
       "    </tr>\n",
       "    <tr>\n",
       "      <th>2648</th>\n",
       "      <td>1645920000</td>\n",
       "      <td>2022-02-27</td>\n",
       "      <td>BTC/USD</td>\n",
       "      <td>39146.66</td>\n",
       "      <td>39886.92</td>\n",
       "      <td>37015.74</td>\n",
       "      <td>37712.68</td>\n",
       "      <td>1.701817e+03</td>\n",
       "      <td>6.418008e+07</td>\n",
       "    </tr>\n",
       "    <tr>\n",
       "      <th>2649</th>\n",
       "      <td>1646006400</td>\n",
       "      <td>2022-02-28</td>\n",
       "      <td>BTC/USD</td>\n",
       "      <td>37717.10</td>\n",
       "      <td>44256.08</td>\n",
       "      <td>37468.99</td>\n",
       "      <td>43178.98</td>\n",
       "      <td>3.160618e+03</td>\n",
       "      <td>1.364723e+08</td>\n",
       "    </tr>\n",
       "    <tr>\n",
       "      <th>2650</th>\n",
       "      <td>1646092800</td>\n",
       "      <td>2022-03-01</td>\n",
       "      <td>BTC/USD</td>\n",
       "      <td>43221.71</td>\n",
       "      <td>43626.49</td>\n",
       "      <td>43185.48</td>\n",
       "      <td>43185.48</td>\n",
       "      <td>4.900629e+01</td>\n",
       "      <td>2.116360e+06</td>\n",
       "    </tr>\n",
       "  </tbody>\n",
       "</table>\n",
       "<p>2651 rows × 9 columns</p>\n",
       "</div>"
      ],
      "text/plain": [
       "            unix        date   symbol      open      high       low     close  \\\n",
       "0     1417132800  2014-11-28  BTC/USD    363.59    381.34    360.57    376.28   \n",
       "1     1417219200  2014-11-29  BTC/USD    376.42    386.60    372.25    376.72   \n",
       "2     1417305600  2014-11-30  BTC/USD    376.57    381.99    373.32    373.34   \n",
       "3     1417392000  2014-12-01  BTC/USD    376.40    382.31    373.03    378.39   \n",
       "4     1417478400  2014-12-02  BTC/USD    378.39    382.86    375.23    379.25   \n",
       "...          ...         ...      ...       ...       ...       ...       ...   \n",
       "2646  1645747200  2022-02-25  BTC/USD  38360.93  39727.97  38027.61  39231.64   \n",
       "2647  1645833600  2022-02-26  BTC/USD  39242.64  40330.99  38600.00  39146.66   \n",
       "2648  1645920000  2022-02-27  BTC/USD  39146.66  39886.92  37015.74  37712.68   \n",
       "2649  1646006400  2022-02-28  BTC/USD  37717.10  44256.08  37468.99  43178.98   \n",
       "2650  1646092800  2022-03-01  BTC/USD  43221.71  43626.49  43185.48  43185.48   \n",
       "\n",
       "        Volume_BTC    Volume_USD  \n",
       "0     3.220878e+06  8.617150e+03  \n",
       "1     2.746157e+06  7.245190e+03  \n",
       "2     1.145567e+06  3.046330e+03  \n",
       "3     2.520662e+06  6.660560e+03  \n",
       "4     2.593576e+06  6.832530e+03  \n",
       "...            ...           ...  \n",
       "2646  2.202852e+03  8.642149e+07  \n",
       "2647  9.127241e+02  3.573010e+07  \n",
       "2648  1.701817e+03  6.418008e+07  \n",
       "2649  3.160618e+03  1.364723e+08  \n",
       "2650  4.900629e+01  2.116360e+06  \n",
       "\n",
       "[2651 rows x 9 columns]"
      ]
     },
     "execution_count": 32,
     "metadata": {},
     "output_type": "execute_result"
    }
   ],
   "source": [
    "df = pd.read_sql(\"SELECT * FROM bitcoin\", con=mydb)\n",
    "df"
   ]
  },
  {
   "cell_type": "markdown",
   "metadata": {},
   "source": [
    "# **Preprosessing**"
   ]
  },
  {
   "cell_type": "code",
   "execution_count": 33,
   "metadata": {
    "execution": {
     "iopub.execute_input": "2022-10-25T04:26:00.046883Z",
     "iopub.status.busy": "2022-10-25T04:26:00.044949Z",
     "iopub.status.idle": "2022-10-25T04:26:00.073176Z",
     "shell.execute_reply": "2022-10-25T04:26:00.072031Z",
     "shell.execute_reply.started": "2022-10-25T04:26:00.046855Z"
    }
   },
   "outputs": [
    {
     "data": {
      "text/html": [
       "<div>\n",
       "<style scoped>\n",
       "    .dataframe tbody tr th:only-of-type {\n",
       "        vertical-align: middle;\n",
       "    }\n",
       "\n",
       "    .dataframe tbody tr th {\n",
       "        vertical-align: top;\n",
       "    }\n",
       "\n",
       "    .dataframe thead th {\n",
       "        text-align: right;\n",
       "    }\n",
       "</style>\n",
       "<table border=\"1\" class=\"dataframe\">\n",
       "  <thead>\n",
       "    <tr style=\"text-align: right;\">\n",
       "      <th></th>\n",
       "      <th>high</th>\n",
       "      <th>low</th>\n",
       "      <th>close</th>\n",
       "    </tr>\n",
       "    <tr>\n",
       "      <th>date</th>\n",
       "      <th></th>\n",
       "      <th></th>\n",
       "      <th></th>\n",
       "    </tr>\n",
       "  </thead>\n",
       "  <tbody>\n",
       "    <tr>\n",
       "      <th>2014-11-28</th>\n",
       "      <td>381.34</td>\n",
       "      <td>360.57</td>\n",
       "      <td>376.28</td>\n",
       "    </tr>\n",
       "    <tr>\n",
       "      <th>2014-11-29</th>\n",
       "      <td>386.60</td>\n",
       "      <td>372.25</td>\n",
       "      <td>376.72</td>\n",
       "    </tr>\n",
       "    <tr>\n",
       "      <th>2014-11-30</th>\n",
       "      <td>381.99</td>\n",
       "      <td>373.32</td>\n",
       "      <td>373.34</td>\n",
       "    </tr>\n",
       "    <tr>\n",
       "      <th>2014-12-01</th>\n",
       "      <td>382.31</td>\n",
       "      <td>373.03</td>\n",
       "      <td>378.39</td>\n",
       "    </tr>\n",
       "    <tr>\n",
       "      <th>2014-12-02</th>\n",
       "      <td>382.86</td>\n",
       "      <td>375.23</td>\n",
       "      <td>379.25</td>\n",
       "    </tr>\n",
       "    <tr>\n",
       "      <th>...</th>\n",
       "      <td>...</td>\n",
       "      <td>...</td>\n",
       "      <td>...</td>\n",
       "    </tr>\n",
       "    <tr>\n",
       "      <th>2022-02-25</th>\n",
       "      <td>39727.97</td>\n",
       "      <td>38027.61</td>\n",
       "      <td>39231.64</td>\n",
       "    </tr>\n",
       "    <tr>\n",
       "      <th>2022-02-26</th>\n",
       "      <td>40330.99</td>\n",
       "      <td>38600.00</td>\n",
       "      <td>39146.66</td>\n",
       "    </tr>\n",
       "    <tr>\n",
       "      <th>2022-02-27</th>\n",
       "      <td>39886.92</td>\n",
       "      <td>37015.74</td>\n",
       "      <td>37712.68</td>\n",
       "    </tr>\n",
       "    <tr>\n",
       "      <th>2022-02-28</th>\n",
       "      <td>44256.08</td>\n",
       "      <td>37468.99</td>\n",
       "      <td>43178.98</td>\n",
       "    </tr>\n",
       "    <tr>\n",
       "      <th>2022-03-01</th>\n",
       "      <td>43626.49</td>\n",
       "      <td>43185.48</td>\n",
       "      <td>43185.48</td>\n",
       "    </tr>\n",
       "  </tbody>\n",
       "</table>\n",
       "<p>2651 rows × 3 columns</p>\n",
       "</div>"
      ],
      "text/plain": [
       "                high       low     close\n",
       "date                                    \n",
       "2014-11-28    381.34    360.57    376.28\n",
       "2014-11-29    386.60    372.25    376.72\n",
       "2014-11-30    381.99    373.32    373.34\n",
       "2014-12-01    382.31    373.03    378.39\n",
       "2014-12-02    382.86    375.23    379.25\n",
       "...              ...       ...       ...\n",
       "2022-02-25  39727.97  38027.61  39231.64\n",
       "2022-02-26  40330.99  38600.00  39146.66\n",
       "2022-02-27  39886.92  37015.74  37712.68\n",
       "2022-02-28  44256.08  37468.99  43178.98\n",
       "2022-03-01  43626.49  43185.48  43185.48\n",
       "\n",
       "[2651 rows x 3 columns]"
      ]
     },
     "execution_count": 33,
     "metadata": {},
     "output_type": "execute_result"
    }
   ],
   "source": [
    "#df = pd.read_csv('/kaggle/input/btcinusd/BTC-Daily.csv')\n",
    "# Removing all unessesary columns ( See Research )\n",
    "df = df = df.drop([\"Volume_BTC\", \"unix\",\"Volume_USD\", \"symbol\",\"open\"], axis=1)\n",
    "df['date'] = pd.to_datetime(df['date'])\n",
    "df = df.sort_values(by='date')\n",
    "df.index = df.pop(\"date\")\n",
    "df"
   ]
  },
  {
   "cell_type": "markdown",
   "metadata": {},
   "source": [
    "# **Standardization**"
   ]
  },
  {
   "cell_type": "code",
   "execution_count": 34,
   "metadata": {
    "execution": {
     "iopub.execute_input": "2022-10-25T04:26:00.077426Z",
     "iopub.status.busy": "2022-10-25T04:26:00.077140Z",
     "iopub.status.idle": "2022-10-25T04:26:00.088142Z",
     "shell.execute_reply": "2022-10-25T04:26:00.086995Z",
     "shell.execute_reply.started": "2022-10-25T04:26:00.077399Z"
    }
   },
   "outputs": [
    {
     "data": {
      "text/plain": [
       "array([0.00244959, 0.00314943])"
      ]
     },
     "execution_count": 34,
     "metadata": {},
     "output_type": "execute_result"
    }
   ],
   "source": [
    "# Scaler for N-Dimensional Array\n",
    "df_features = df.drop(['close'],axis=1)\n",
    "df_np = df_features.to_numpy()\n",
    "scaler = MinMaxScaler()\n",
    "df_scaled = scaler.fit_transform(df_np, (-1,1))\n",
    "df_scaled[0]"
   ]
  },
  {
   "cell_type": "code",
   "execution_count": 35,
   "metadata": {
    "execution": {
     "iopub.execute_input": "2022-10-25T04:26:00.098770Z",
     "iopub.status.busy": "2022-10-25T04:26:00.098466Z",
     "iopub.status.idle": "2022-10-25T04:26:00.108185Z",
     "shell.execute_reply": "2022-10-25T04:26:00.107156Z",
     "shell.execute_reply.started": "2022-10-25T04:26:00.098733Z"
    }
   },
   "outputs": [
    {
     "data": {
      "text/plain": [
       "array([[0.00317937],\n",
       "       [0.0031859 ],\n",
       "       [0.00313575],\n",
       "       ...,\n",
       "       [0.55715655],\n",
       "       [0.63826253],\n",
       "       [0.63835898]])"
      ]
     },
     "execution_count": 35,
     "metadata": {},
     "output_type": "execute_result"
    }
   ],
   "source": [
    "# Scaler for 1D array\n",
    "df_close = pd.DataFrame(df['close'])\n",
    "df_close_np = df_close.to_numpy()\n",
    "to_inverse_scale = MinMaxScaler()\n",
    "df_close_scale = to_inverse_scale.fit_transform(df_close_np)\n",
    "df_close_scale"
   ]
  },
  {
   "cell_type": "markdown",
   "metadata": {},
   "source": [
    "# **Converting Data to 3 Dimensions **"
   ]
  },
  {
   "cell_type": "code",
   "execution_count": 36,
   "metadata": {
    "execution": {
     "iopub.execute_input": "2022-10-25T04:26:00.124984Z",
     "iopub.status.busy": "2022-10-25T04:26:00.124715Z",
     "iopub.status.idle": "2022-10-25T04:26:00.136683Z",
     "shell.execute_reply": "2022-10-25T04:26:00.135661Z",
     "shell.execute_reply.started": "2022-10-25T04:26:00.124959Z"
    }
   },
   "outputs": [],
   "source": [
    "x = [] # The features needed for prediction.\n",
    "y = [] # The expected result.\n",
    "\n",
    "for i in range(len(df_scaled)-6):\n",
    "    x.append(df_scaled[i:i+6])\n",
    "\n",
    "for i in range(len(df_close_scale)-1):\n",
    "        y.append(df_close_scale[i][0])\n",
    "\n",
    "\n",
    "# Converting to Numpy array for easier reading by the ML-Algorithm\n",
    "X = np.array(x)\n",
    "Y = np.array(y)\n",
    "\n",
    "\n"
   ]
  },
  {
   "cell_type": "markdown",
   "metadata": {},
   "source": [
    "# **Splitting the Data (Train/Test)**"
   ]
  },
  {
   "cell_type": "code",
   "execution_count": 37,
   "metadata": {
    "execution": {
     "iopub.execute_input": "2022-10-25T04:26:00.151222Z",
     "iopub.status.busy": "2022-10-25T04:26:00.150175Z",
     "iopub.status.idle": "2022-10-25T04:26:00.156691Z",
     "shell.execute_reply": "2022-10-25T04:26:00.155539Z",
     "shell.execute_reply.started": "2022-10-25T04:26:00.151186Z"
    }
   },
   "outputs": [],
   "source": [
    "train_no = math.floor(len(X) * 0.7) # 70% for training, 30% For Testing\n",
    "total_no = len(X) \n",
    "X_Train, Y_Train = X[:train_no][:train_no], Y[:train_no]\n",
    "X_Test, Y_Test = X[train_no: total_no - 1], Y[train_no: total_no - 1]"
   ]
  },
  {
   "cell_type": "code",
   "execution_count": 38,
   "metadata": {
    "execution": {
     "iopub.execute_input": "2022-10-25T04:26:00.202628Z",
     "iopub.status.busy": "2022-10-25T04:26:00.202363Z",
     "iopub.status.idle": "2022-10-25T04:26:00.207752Z",
     "shell.execute_reply": "2022-10-25T04:26:00.206704Z",
     "shell.execute_reply.started": "2022-10-25T04:26:00.202604Z"
    }
   },
   "outputs": [
    {
     "name": "stdout",
     "output_type": "stream",
     "text": [
      "(1851, 6, 2) (1851,)\n",
      "(793, 6, 2) (793,)\n"
     ]
    }
   ],
   "source": [
    "print(X_Train.shape, Y_Train.shape)\n",
    "print(X_Test.shape, Y_Test.shape)"
   ]
  },
  {
   "cell_type": "code",
   "execution_count": 39,
   "metadata": {
    "execution": {
     "iopub.execute_input": "2022-10-25T04:26:00.227100Z",
     "iopub.status.busy": "2022-10-25T04:26:00.226333Z",
     "iopub.status.idle": "2022-10-25T04:26:00.232196Z",
     "shell.execute_reply": "2022-10-25T04:26:00.231234Z",
     "shell.execute_reply.started": "2022-10-25T04:26:00.227066Z"
    }
   },
   "outputs": [],
   "source": [
    "X_Train, Y_Train = X[:train_no], Y[:train_no]\n",
    "X_Test, Y_Test = X[train_no: total_no - 1], Y[train_no: total_no - 1]"
   ]
  },
  {
   "cell_type": "markdown",
   "metadata": {},
   "source": [
    "# **Developing The Model**"
   ]
  },
  {
   "cell_type": "code",
   "execution_count": 40,
   "metadata": {
    "execution": {
     "iopub.execute_input": "2022-10-25T04:26:00.254470Z",
     "iopub.status.busy": "2022-10-25T04:26:00.252686Z",
     "iopub.status.idle": "2022-10-25T04:26:00.858023Z",
     "shell.execute_reply": "2022-10-25T04:26:00.857059Z",
     "shell.execute_reply.started": "2022-10-25T04:26:00.254443Z"
    }
   },
   "outputs": [],
   "source": [
    "model = Sequential()\n",
    "# Three layers, Final Output is in an array of 10 predictions\n",
    "model.add(LSTM(30, return_sequences=True, input_shape=(6,2)))\n",
    "model.add(LSTM(25, return_sequences=True))\n",
    "model.add(LSTM(20, return_sequences=False))\n",
    "model.add(Dense(15))\n",
    "model.add(Dense(10))\n",
    "          "
   ]
  },
  {
   "cell_type": "code",
   "execution_count": 41,
   "metadata": {
    "execution": {
     "iopub.execute_input": "2022-10-25T04:26:00.860632Z",
     "iopub.status.busy": "2022-10-25T04:26:00.860212Z",
     "iopub.status.idle": "2022-10-25T04:26:00.870646Z",
     "shell.execute_reply": "2022-10-25T04:26:00.869527Z",
     "shell.execute_reply.started": "2022-10-25T04:26:00.860595Z"
    }
   },
   "outputs": [],
   "source": [
    "model.compile(optimizer='adam', loss='mean_squared_error') # Compling the Model"
   ]
  },
  {
   "cell_type": "code",
   "execution_count": 42,
   "metadata": {
    "execution": {
     "iopub.execute_input": "2022-10-25T04:26:00.872883Z",
     "iopub.status.busy": "2022-10-25T04:26:00.872503Z",
     "iopub.status.idle": "2022-10-25T04:27:33.882657Z",
     "shell.execute_reply": "2022-10-25T04:27:33.881676Z",
     "shell.execute_reply.started": "2022-10-25T04:26:00.872848Z"
    }
   },
   "outputs": [
    {
     "name": "stdout",
     "output_type": "stream",
     "text": [
      "Epoch 1/10\n",
      "1851/1851 [==============================] - 17s 6ms/step - loss: 1.8814e-04\n",
      "Epoch 2/10\n",
      "1851/1851 [==============================] - 12s 6ms/step - loss: 4.1350e-05\n",
      "Epoch 3/10\n",
      "1851/1851 [==============================] - 12s 7ms/step - loss: 4.6702e-05\n",
      "Epoch 4/10\n",
      "1851/1851 [==============================] - 12s 7ms/step - loss: 4.2884e-05\n",
      "Epoch 5/10\n",
      "1851/1851 [==============================] - 13s 7ms/step - loss: 3.4353e-05\n",
      "Epoch 6/10\n",
      "1851/1851 [==============================] - 13s 7ms/step - loss: 3.7283e-05\n",
      "Epoch 7/10\n",
      "1851/1851 [==============================] - 13s 7ms/step - loss: 3.2167e-05\n",
      "Epoch 8/10\n",
      "1851/1851 [==============================] - 13s 7ms/step - loss: 3.3653e-05\n",
      "Epoch 9/10\n",
      "1851/1851 [==============================] - 13s 7ms/step - loss: 2.9955e-05\n",
      "Epoch 10/10\n",
      "1851/1851 [==============================] - 13s 7ms/step - loss: 3.3977e-05\n"
     ]
    }
   ],
   "source": [
    "modeled = model.fit(X_Train, Y_Train, batch_size=1, epochs=10) # Training the model"
   ]
  },
  {
   "cell_type": "markdown",
   "metadata": {},
   "source": [
    "# **Testing the Model**"
   ]
  },
  {
   "cell_type": "code",
   "execution_count": 43,
   "metadata": {
    "execution": {
     "iopub.execute_input": "2022-10-25T04:27:33.886077Z",
     "iopub.status.busy": "2022-10-25T04:27:33.885463Z",
     "iopub.status.idle": "2022-10-25T04:27:34.770270Z",
     "shell.execute_reply": "2022-10-25T04:27:34.769180Z",
     "shell.execute_reply.started": "2022-10-25T04:27:33.886036Z"
    }
   },
   "outputs": [
    {
     "name": "stdout",
     "output_type": "stream",
     "text": [
      "25/25 [==============================] - 2s 4ms/step\n"
     ]
    }
   ],
   "source": [
    "predictions = model.predict(X_Test)\n",
    "predictions = to_inverse_scale.inverse_transform(predictions) # Reverse the standardization.\n"
   ]
  },
  {
   "cell_type": "code",
   "execution_count": 44,
   "metadata": {
    "execution": {
     "iopub.execute_input": "2022-10-25T04:28:24.788688Z",
     "iopub.status.busy": "2022-10-25T04:28:24.788159Z",
     "iopub.status.idle": "2022-10-25T04:28:24.797713Z",
     "shell.execute_reply": "2022-10-25T04:28:24.796213Z",
     "shell.execute_reply.started": "2022-10-25T04:28:24.788656Z"
    }
   },
   "outputs": [],
   "source": [
    "# Putting the predictions in an array to convert into dataframe column later.\n",
    "valid = []\n",
    "for i in range(len(predictions)):\n",
    "    valid.append(predictions[i][9]) # Using the final prediction in the array.\n",
    "    "
   ]
  },
  {
   "cell_type": "markdown",
   "metadata": {},
   "source": [
    "# **Validating the Results**"
   ]
  },
  {
   "cell_type": "code",
   "execution_count": 45,
   "metadata": {
    "execution": {
     "iopub.execute_input": "2022-10-25T04:28:28.622513Z",
     "iopub.status.busy": "2022-10-25T04:28:28.622131Z",
     "iopub.status.idle": "2022-10-25T04:28:28.639217Z",
     "shell.execute_reply": "2022-10-25T04:28:28.638151Z",
     "shell.execute_reply.started": "2022-10-25T04:28:28.622462Z"
    }
   },
   "outputs": [
    {
     "data": {
      "text/html": [
       "<div>\n",
       "<style scoped>\n",
       "    .dataframe tbody tr th:only-of-type {\n",
       "        vertical-align: middle;\n",
       "    }\n",
       "\n",
       "    .dataframe tbody tr th {\n",
       "        vertical-align: top;\n",
       "    }\n",
       "\n",
       "    .dataframe thead th {\n",
       "        text-align: right;\n",
       "    }\n",
       "</style>\n",
       "<table border=\"1\" class=\"dataframe\">\n",
       "  <thead>\n",
       "    <tr style=\"text-align: right;\">\n",
       "      <th></th>\n",
       "      <th>close</th>\n",
       "      <th>Prediction</th>\n",
       "    </tr>\n",
       "    <tr>\n",
       "      <th>date</th>\n",
       "      <th></th>\n",
       "      <th></th>\n",
       "    </tr>\n",
       "  </thead>\n",
       "  <tbody>\n",
       "    <tr>\n",
       "      <th>2019-12-23</th>\n",
       "      <td>7316.17</td>\n",
       "      <td>7102.134277</td>\n",
       "    </tr>\n",
       "    <tr>\n",
       "      <th>2019-12-24</th>\n",
       "      <td>7251.52</td>\n",
       "      <td>7014.655762</td>\n",
       "    </tr>\n",
       "    <tr>\n",
       "      <th>2019-12-25</th>\n",
       "      <td>7195.79</td>\n",
       "      <td>6998.446289</td>\n",
       "    </tr>\n",
       "    <tr>\n",
       "      <th>2019-12-26</th>\n",
       "      <td>7188.30</td>\n",
       "      <td>7032.118164</td>\n",
       "    </tr>\n",
       "    <tr>\n",
       "      <th>2019-12-27</th>\n",
       "      <td>7246.00</td>\n",
       "      <td>7019.802734</td>\n",
       "    </tr>\n",
       "    <tr>\n",
       "      <th>...</th>\n",
       "      <td>...</td>\n",
       "      <td>...</td>\n",
       "    </tr>\n",
       "    <tr>\n",
       "      <th>2022-02-18</th>\n",
       "      <td>39996.99</td>\n",
       "      <td>31481.089844</td>\n",
       "    </tr>\n",
       "    <tr>\n",
       "      <th>2022-02-19</th>\n",
       "      <td>40109.02</td>\n",
       "      <td>31298.630859</td>\n",
       "    </tr>\n",
       "    <tr>\n",
       "      <th>2022-02-20</th>\n",
       "      <td>38373.90</td>\n",
       "      <td>31039.041016</td>\n",
       "    </tr>\n",
       "    <tr>\n",
       "      <th>2022-02-21</th>\n",
       "      <td>37076.60</td>\n",
       "      <td>30845.316406</td>\n",
       "    </tr>\n",
       "    <tr>\n",
       "      <th>2022-02-22</th>\n",
       "      <td>38269.94</td>\n",
       "      <td>30789.105469</td>\n",
       "    </tr>\n",
       "  </tbody>\n",
       "</table>\n",
       "<p>793 rows × 2 columns</p>\n",
       "</div>"
      ],
      "text/plain": [
       "               close    Prediction\n",
       "date                              \n",
       "2019-12-23   7316.17   7102.134277\n",
       "2019-12-24   7251.52   7014.655762\n",
       "2019-12-25   7195.79   6998.446289\n",
       "2019-12-26   7188.30   7032.118164\n",
       "2019-12-27   7246.00   7019.802734\n",
       "...              ...           ...\n",
       "2022-02-18  39996.99  31481.089844\n",
       "2022-02-19  40109.02  31298.630859\n",
       "2022-02-20  38373.90  31039.041016\n",
       "2022-02-21  37076.60  30845.316406\n",
       "2022-02-22  38269.94  30789.105469\n",
       "\n",
       "[793 rows x 2 columns]"
      ]
     },
     "execution_count": 45,
     "metadata": {},
     "output_type": "execute_result"
    }
   ],
   "source": [
    "new_df = pd.DataFrame(df[train_no: total_no - 1])\n",
    "\n",
    "new_df = new_df.drop([\"high\",\"low\"], axis=1)\n",
    "\n",
    "new_df['Prediction'] = valid\n",
    "\n",
    "\n",
    "new_df"
   ]
  },
  {
   "cell_type": "code",
   "execution_count": 46,
   "metadata": {
    "execution": {
     "iopub.execute_input": "2022-10-25T04:27:52.336209Z",
     "iopub.status.busy": "2022-10-25T04:27:52.335776Z",
     "iopub.status.idle": "2022-10-25T04:27:52.681014Z",
     "shell.execute_reply": "2022-10-25T04:27:52.680125Z",
     "shell.execute_reply.started": "2022-10-25T04:27:52.336172Z"
    }
   },
   "outputs": [
    {
     "data": {
      "text/plain": [
       "<AxesSubplot:xlabel='date'>"
      ]
     },
     "execution_count": 46,
     "metadata": {},
     "output_type": "execute_result"
    },
    {
     "data": {
      "image/png": "[encoded data removed]",
      "text/plain": [
       "<Figure size 640x480 with 1 Axes>"
      ]
     },
     "metadata": {},
     "output_type": "display_data"
    }
   ],
   "source": [
    "new_df.plot()"
   ]
  },
  {
   "cell_type": "code",
   "execution_count": 47,
   "metadata": {
    "execution": {
     "iopub.execute_input": "2022-10-25T04:28:00.853649Z",
     "iopub.status.busy": "2022-10-25T04:28:00.853273Z",
     "iopub.status.idle": "2022-10-25T04:28:00.866241Z",
     "shell.execute_reply": "2022-10-25T04:28:00.864992Z",
     "shell.execute_reply.started": "2022-10-25T04:28:00.853617Z"
    }
   },
   "outputs": [
    {
     "data": {
      "text/html": [
       "<div>\n",
       "<style scoped>\n",
       "    .dataframe tbody tr th:only-of-type {\n",
       "        vertical-align: middle;\n",
       "    }\n",
       "\n",
       "    .dataframe tbody tr th {\n",
       "        vertical-align: top;\n",
       "    }\n",
       "\n",
       "    .dataframe thead th {\n",
       "        text-align: right;\n",
       "    }\n",
       "</style>\n",
       "<table border=\"1\" class=\"dataframe\">\n",
       "  <thead>\n",
       "    <tr style=\"text-align: right;\">\n",
       "      <th></th>\n",
       "      <th>close</th>\n",
       "      <th>Prediction</th>\n",
       "    </tr>\n",
       "  </thead>\n",
       "  <tbody>\n",
       "    <tr>\n",
       "      <th>close</th>\n",
       "      <td>1.000000</td>\n",
       "      <td>0.973281</td>\n",
       "    </tr>\n",
       "    <tr>\n",
       "      <th>Prediction</th>\n",
       "      <td>0.973281</td>\n",
       "      <td>1.000000</td>\n",
       "    </tr>\n",
       "  </tbody>\n",
       "</table>\n",
       "</div>"
      ],
      "text/plain": [
       "               close  Prediction\n",
       "close       1.000000    0.973281\n",
       "Prediction  0.973281    1.000000"
      ]
     },
     "execution_count": 47,
     "metadata": {},
     "output_type": "execute_result"
    }
   ],
   "source": [
    "new_df.corr() # Accuracy around 99.5%"
   ]
  },
  {
   "cell_type": "code",
   "execution_count": 48,
   "metadata": {
    "execution": {
     "iopub.execute_input": "2022-10-25T04:30:06.449378Z",
     "iopub.status.busy": "2022-10-25T04:30:06.448308Z",
     "iopub.status.idle": "2022-10-25T04:30:06.498243Z",
     "shell.execute_reply": "2022-10-25T04:30:06.497315Z",
     "shell.execute_reply.started": "2022-10-25T04:30:06.449338Z"
    }
   },
   "outputs": [
    {
     "name": "stdout",
     "output_type": "stream",
     "text": [
      "1/1 [==============================] - 0s 16ms/step\n"
     ]
    },
    {
     "data": {
      "text/plain": [
       "[31913.428, 31481.09, 31298.63, 31039.041, 30845.316, 30789.107]"
      ]
     },
     "execution_count": 48,
     "metadata": {},
     "output_type": "execute_result"
    }
   ],
   "source": [
    "test = X_Test[787:]\n",
    "\n",
    "tests = model.predict(test)\n",
    "tests =to_inverse_scale.inverse_transform(tests)\n",
    "t = []\n",
    "for i in range(len(tests)):\n",
    "    t.append(tests[i][9])\n",
    "\n",
    "t"
   ]
  },
  {
   "cell_type": "code",
   "execution_count": null,
   "metadata": {},
   "outputs": [],
   "source": []
  }
 ],
 "metadata": {
  "kernelspec": {
   "display_name": "Python 3 (ipykernel)",
   "language": "python",
   "name": "python3"
  },
  "language_info": {
   "codemirror_mode": {
    "name": "ipython",
    "version": 3
   },
   "file_extension": ".py",
   "mimetype": "text/x-python",
   "name": "python",
   "nbconvert_exporter": "python",
   "pygments_lexer": "ipython3",
   "version": "3.7.13"
  }
 },
 "nbformat": 4,
 "nbformat_minor": 4
}
