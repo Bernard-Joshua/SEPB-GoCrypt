{
 "cells": [
  {
   "cell_type": "code",
   "execution_count": 1,
   "id": "e91c6381",
   "metadata": {
    "_cell_guid": "b1076dfc-b9ad-4769-8c92-a6c4dae69d19",
    "_uuid": "8f2839f25d086af736a60e9eeb907d3b93b6e0e5",
    "execution": {
     "iopub.execute_input": "2022-11-05T19:06:12.675946Z",
     "iopub.status.busy": "2022-11-05T19:06:12.675158Z",
     "iopub.status.idle": "2022-11-05T19:06:24.073372Z",
     "shell.execute_reply": "2022-11-05T19:06:24.072317Z"
    },
    "papermill": {
     "duration": 11.409869,
     "end_time": "2022-11-05T19:06:24.076631",
     "exception": false,
     "start_time": "2022-11-05T19:06:12.666762",
     "status": "completed"
    },
    "tags": []
   },
   "outputs": [
    {
     "name": "stdout",
     "output_type": "stream",
     "text": [
      "/kaggle/input/btcinusd/BTC-2019min.csv\n",
      "/kaggle/input/btcinusd/BTC-Hourly.csv\n",
      "/kaggle/input/btcinusd/BTC-Daily.csv\n",
      "/kaggle/input/btcinusd/BTC-2020min.csv\n",
      "/kaggle/input/btcinusd/BTC-2017min.csv\n",
      "/kaggle/input/btcinusd/BTC-2018min.csv\n",
      "/kaggle/input/btcinusd/BTC-2021min.csv\n",
      "/kaggle/input/etherum-2022-minbymin/ETHUSDT_Binance_futures_2022_minute.csv\n",
      "/kaggle/input/etherum/ETH-USD.csv\n",
      "/kaggle/input/btcdata/BTC-USD.csv\n"
     ]
    }
   ],
   "source": [
    "import numpy as np # linear algebra\n",
    "import pandas as pd # data processing, CSV file I/O (e.g. pd.read_csv)\n",
    "import datetime as dt\n",
    "import tensorflow as tf\n",
    "from sklearn.preprocessing import RobustScaler, MinMaxScaler\n",
    "from sklearn.metrics import mean_absolute_error, mean_squared_error\n",
    "from tensorflow.keras import Sequential # Deep learning library, used for neural networks\n",
    "from tensorflow.keras.layers import LSTM, Dense, Dropout # Deep learning classes for recurrent and regular densely-connected layers\n",
    "from tensorflow.keras.callbacks import EarlyStopping, ModelCheckpoint # EarlyStopping during model training\n",
    "from tensorflow.keras.optimizers import Adam\n",
    "import math\n",
    "\n",
    "\n",
    "import os\n",
    "for dirname, _, filenames in os.walk('/kaggle/input'):\n",
    "    for filename in filenames:\n",
    "        print(os.path.join(dirname, filename))\n"
   ]
  },
  {
   "cell_type": "markdown",
   "id": "b1bdb710",
   "metadata": {
    "papermill": {
     "duration": 0.005549,
     "end_time": "2022-11-05T19:06:24.089096",
     "exception": false,
     "start_time": "2022-11-05T19:06:24.083547",
     "status": "completed"
    },
    "tags": []
   },
   "source": [
    "# **Preprosessing**"
   ]
  },
  {
   "cell_type": "code",
   "execution_count": 2,
   "id": "b3fc8f17",
   "metadata": {
    "execution": {
     "iopub.execute_input": "2022-11-05T19:06:24.102093Z",
     "iopub.status.busy": "2022-11-05T19:06:24.101564Z",
     "iopub.status.idle": "2022-11-05T19:06:55.791690Z",
     "shell.execute_reply": "2022-11-05T19:06:55.790664Z"
    },
    "papermill": {
     "duration": 31.703304,
     "end_time": "2022-11-05T19:06:55.798096",
     "exception": false,
     "start_time": "2022-11-05T19:06:24.094792",
     "status": "completed"
    },
    "tags": []
   },
   "outputs": [
    {
     "data": {
      "text/html": [
       "<div>\n",
       "<style scoped>\n",
       "    .dataframe tbody tr th:only-of-type {\n",
       "        vertical-align: middle;\n",
       "    }\n",
       "\n",
       "    .dataframe tbody tr th {\n",
       "        vertical-align: top;\n",
       "    }\n",
       "\n",
       "    .dataframe thead th {\n",
       "        text-align: right;\n",
       "    }\n",
       "</style>\n",
       "<table border=\"1\" class=\"dataframe\">\n",
       "  <thead>\n",
       "    <tr style=\"text-align: right;\">\n",
       "      <th></th>\n",
       "      <th>high</th>\n",
       "      <th>low</th>\n",
       "      <th>close</th>\n",
       "    </tr>\n",
       "    <tr>\n",
       "      <th>date</th>\n",
       "      <th></th>\n",
       "      <th></th>\n",
       "      <th></th>\n",
       "    </tr>\n",
       "  </thead>\n",
       "  <tbody>\n",
       "    <tr>\n",
       "      <th>2022-01-01 00:01:00</th>\n",
       "      <td>3692.29</td>\n",
       "      <td>3681.11</td>\n",
       "      <td>3690.61</td>\n",
       "    </tr>\n",
       "    <tr>\n",
       "      <th>2022-01-01 00:02:00</th>\n",
       "      <td>3692.94</td>\n",
       "      <td>3685.66</td>\n",
       "      <td>3692.00</td>\n",
       "    </tr>\n",
       "    <tr>\n",
       "      <th>2022-01-01 00:03:00</th>\n",
       "      <td>3693.93</td>\n",
       "      <td>3688.21</td>\n",
       "      <td>3689.25</td>\n",
       "    </tr>\n",
       "    <tr>\n",
       "      <th>2022-01-01 00:04:00</th>\n",
       "      <td>3689.69</td>\n",
       "      <td>3686.55</td>\n",
       "      <td>3688.53</td>\n",
       "    </tr>\n",
       "    <tr>\n",
       "      <th>2022-01-01 00:05:00</th>\n",
       "      <td>3698.26</td>\n",
       "      <td>3685.00</td>\n",
       "      <td>3697.77</td>\n",
       "    </tr>\n",
       "    <tr>\n",
       "      <th>...</th>\n",
       "      <td>...</td>\n",
       "      <td>...</td>\n",
       "      <td>...</td>\n",
       "    </tr>\n",
       "    <tr>\n",
       "      <th>2022-09-07 00:12:00</th>\n",
       "      <td>1562.67</td>\n",
       "      <td>1561.08</td>\n",
       "      <td>1561.09</td>\n",
       "    </tr>\n",
       "    <tr>\n",
       "      <th>2022-09-07 00:13:00</th>\n",
       "      <td>1561.98</td>\n",
       "      <td>1560.01</td>\n",
       "      <td>1560.99</td>\n",
       "    </tr>\n",
       "    <tr>\n",
       "      <th>2022-09-07 00:14:00</th>\n",
       "      <td>1562.00</td>\n",
       "      <td>1560.50</td>\n",
       "      <td>1560.88</td>\n",
       "    </tr>\n",
       "    <tr>\n",
       "      <th>2022-09-07 00:15:00</th>\n",
       "      <td>1562.76</td>\n",
       "      <td>1560.58</td>\n",
       "      <td>1561.51</td>\n",
       "    </tr>\n",
       "    <tr>\n",
       "      <th>2022-09-07 00:16:00</th>\n",
       "      <td>1561.50</td>\n",
       "      <td>1555.82</td>\n",
       "      <td>1556.24</td>\n",
       "    </tr>\n",
       "  </tbody>\n",
       "</table>\n",
       "<p>358576 rows × 3 columns</p>\n",
       "</div>"
      ],
      "text/plain": [
       "                        high      low    close\n",
       "date                                          \n",
       "2022-01-01 00:01:00  3692.29  3681.11  3690.61\n",
       "2022-01-01 00:02:00  3692.94  3685.66  3692.00\n",
       "2022-01-01 00:03:00  3693.93  3688.21  3689.25\n",
       "2022-01-01 00:04:00  3689.69  3686.55  3688.53\n",
       "2022-01-01 00:05:00  3698.26  3685.00  3697.77\n",
       "...                      ...      ...      ...\n",
       "2022-09-07 00:12:00  1562.67  1561.08  1561.09\n",
       "2022-09-07 00:13:00  1561.98  1560.01  1560.99\n",
       "2022-09-07 00:14:00  1562.00  1560.50  1560.88\n",
       "2022-09-07 00:15:00  1562.76  1560.58  1561.51\n",
       "2022-09-07 00:16:00  1561.50  1555.82  1556.24\n",
       "\n",
       "[358576 rows x 3 columns]"
      ]
     },
     "execution_count": 2,
     "metadata": {},
     "output_type": "execute_result"
    }
   ],
   "source": [
    "df = pd.read_csv('../input/etherum-2022-minbymin/ETHUSDT_Binance_futures_2022_minute.csv')\n",
    "# Removing all unessesary columns ( See Research )\n",
    "df = df = df.drop([\"Volume ETH\", \"unix\",\"Volume USDT\", \"symbol\",\"open\",\"tradecount\"], axis=1)\n",
    "df['date'] = pd.to_datetime(df['date'])\n",
    "df = df.sort_values(by='date')\n",
    "df.index = df.pop(\"date\")\n",
    "df"
   ]
  },
  {
   "cell_type": "markdown",
   "id": "f32ec266",
   "metadata": {
    "papermill": {
     "duration": 0.005701,
     "end_time": "2022-11-05T19:06:55.809909",
     "exception": false,
     "start_time": "2022-11-05T19:06:55.804208",
     "status": "completed"
    },
    "tags": []
   },
   "source": [
    "# **Standardization**"
   ]
  },
  {
   "cell_type": "code",
   "execution_count": 3,
   "id": "67a0b20e",
   "metadata": {
    "execution": {
     "iopub.execute_input": "2022-11-05T19:06:55.822881Z",
     "iopub.status.busy": "2022-11-05T19:06:55.822550Z",
     "iopub.status.idle": "2022-11-05T19:06:55.836635Z",
     "shell.execute_reply": "2022-11-05T19:06:55.835499Z"
    },
    "papermill": {
     "duration": 0.023683,
     "end_time": "2022-11-05T19:06:55.839358",
     "exception": false,
     "start_time": "2022-11-05T19:06:55.815675",
     "status": "completed"
    },
    "tags": []
   },
   "outputs": [
    {
     "data": {
      "text/plain": [
       "array([0.93307773, 0.93242654, 0.93452141])"
      ]
     },
     "execution_count": 3,
     "metadata": {},
     "output_type": "execute_result"
    }
   ],
   "source": [
    "# Scaler for N-Dimensional Array\n",
    "df_features = df\n",
    "df_np = df_features.to_numpy()\n",
    "scaler = MinMaxScaler()\n",
    "df_scaled = scaler.fit_transform(df_np, (-1,1))\n",
    "df_scaled[0]"
   ]
  },
  {
   "cell_type": "code",
   "execution_count": 4,
   "id": "ff136329",
   "metadata": {
    "execution": {
     "iopub.execute_input": "2022-11-05T19:06:55.853540Z",
     "iopub.status.busy": "2022-11-05T19:06:55.852661Z",
     "iopub.status.idle": "2022-11-05T19:06:55.864298Z",
     "shell.execute_reply": "2022-11-05T19:06:55.863163Z"
    },
    "papermill": {
     "duration": 0.020816,
     "end_time": "2022-11-05T19:06:55.866382",
     "exception": false,
     "start_time": "2022-11-05T19:06:55.845566",
     "status": "completed"
    },
    "tags": []
   },
   "outputs": [
    {
     "data": {
      "text/plain": [
       "array([[0.93452141],\n",
       "       [0.93498417],\n",
       "       [0.93406864],\n",
       "       ...,\n",
       "       [0.22549297],\n",
       "       [0.22570271],\n",
       "       [0.22394822]])"
      ]
     },
     "execution_count": 4,
     "metadata": {},
     "output_type": "execute_result"
    }
   ],
   "source": [
    "# Scaler for 1D array\n",
    "df_close = pd.DataFrame(df['close'])\n",
    "df_close_np = df_close.to_numpy()\n",
    "to_inverse_scale = MinMaxScaler()\n",
    "df_close_scale = to_inverse_scale.fit_transform(df_close_np)\n",
    "df_close_scale"
   ]
  },
  {
   "cell_type": "markdown",
   "id": "b5ea4838",
   "metadata": {
    "papermill": {
     "duration": 0.007035,
     "end_time": "2022-11-05T19:06:55.880005",
     "exception": false,
     "start_time": "2022-11-05T19:06:55.872970",
     "status": "completed"
    },
    "tags": []
   },
   "source": [
    "# **Converting Data to 3 Dimensions **"
   ]
  },
  {
   "cell_type": "code",
   "execution_count": 5,
   "id": "b30c9d20",
   "metadata": {
    "execution": {
     "iopub.execute_input": "2022-11-05T19:06:55.893678Z",
     "iopub.status.busy": "2022-11-05T19:06:55.892856Z",
     "iopub.status.idle": "2022-11-05T19:06:56.345963Z",
     "shell.execute_reply": "2022-11-05T19:06:56.344959Z"
    },
    "papermill": {
     "duration": 0.462525,
     "end_time": "2022-11-05T19:06:56.348495",
     "exception": false,
     "start_time": "2022-11-05T19:06:55.885970",
     "status": "completed"
    },
    "tags": []
   },
   "outputs": [],
   "source": [
    "x = [] # The features needed for prediction.\n",
    "y = [] # The expected result.\n",
    "\n",
    "for i in range(len(df_scaled)-7):\n",
    "    x.append(df_scaled[i:i+7])\n",
    "\n",
    "for i in range(len(df_close_scale)-1):\n",
    "        y.append(df_close_scale[i][0])\n",
    "\n",
    "\n",
    "# Converting to Numpy array for easier reading by the ML-Algorithm\n",
    "X = np.array(x)\n",
    "Y = np.array(y)\n",
    "\n",
    "\n"
   ]
  },
  {
   "cell_type": "markdown",
   "id": "9d4d5672",
   "metadata": {
    "papermill": {
     "duration": 0.006028,
     "end_time": "2022-11-05T19:06:56.360840",
     "exception": false,
     "start_time": "2022-11-05T19:06:56.354812",
     "status": "completed"
    },
    "tags": []
   },
   "source": [
    "# **Splitting the Data (Train/Test)**"
   ]
  },
  {
   "cell_type": "code",
   "execution_count": 6,
   "id": "099386a7",
   "metadata": {
    "execution": {
     "iopub.execute_input": "2022-11-05T19:06:56.374284Z",
     "iopub.status.busy": "2022-11-05T19:06:56.373960Z",
     "iopub.status.idle": "2022-11-05T19:06:56.379623Z",
     "shell.execute_reply": "2022-11-05T19:06:56.378576Z"
    },
    "papermill": {
     "duration": 0.015051,
     "end_time": "2022-11-05T19:06:56.381892",
     "exception": false,
     "start_time": "2022-11-05T19:06:56.366841",
     "status": "completed"
    },
    "tags": []
   },
   "outputs": [],
   "source": [
    "train_no = math.floor(len(X) * 0.7) # 70% for training, 30% For Testing\n",
    "total_no = len(X) \n",
    "X_Train, Y_Train = X[:train_no][:train_no], Y[:train_no]\n",
    "X_Test, Y_Test = X[train_no: total_no - 1], Y[train_no: total_no - 1]"
   ]
  },
  {
   "cell_type": "code",
   "execution_count": 7,
   "id": "4fadbae3",
   "metadata": {
    "execution": {
     "iopub.execute_input": "2022-11-05T19:06:56.395134Z",
     "iopub.status.busy": "2022-11-05T19:06:56.394527Z",
     "iopub.status.idle": "2022-11-05T19:06:56.400906Z",
     "shell.execute_reply": "2022-11-05T19:06:56.399363Z"
    },
    "papermill": {
     "duration": 0.015447,
     "end_time": "2022-11-05T19:06:56.403224",
     "exception": false,
     "start_time": "2022-11-05T19:06:56.387777",
     "status": "completed"
    },
    "tags": []
   },
   "outputs": [
    {
     "name": "stdout",
     "output_type": "stream",
     "text": [
      "(250998, 7, 3) (250998,)\n",
      "(107570, 7, 3) (107570,)\n"
     ]
    }
   ],
   "source": [
    "print(X_Train.shape, Y_Train.shape)\n",
    "print(X_Test.shape, Y_Test.shape)"
   ]
  },
  {
   "cell_type": "markdown",
   "id": "62fd3fb6",
   "metadata": {
    "papermill": {
     "duration": 0.006048,
     "end_time": "2022-11-05T19:06:56.415897",
     "exception": false,
     "start_time": "2022-11-05T19:06:56.409849",
     "status": "completed"
    },
    "tags": []
   },
   "source": [
    "# **Developing The Model**"
   ]
  },
  {
   "cell_type": "code",
   "execution_count": 8,
   "id": "1973d3b1",
   "metadata": {
    "execution": {
     "iopub.execute_input": "2022-11-05T19:06:56.429520Z",
     "iopub.status.busy": "2022-11-05T19:06:56.428738Z",
     "iopub.status.idle": "2022-11-05T19:07:04.599896Z",
     "shell.execute_reply": "2022-11-05T19:07:04.598928Z"
    },
    "papermill": {
     "duration": 8.180403,
     "end_time": "2022-11-05T19:07:04.602271",
     "exception": false,
     "start_time": "2022-11-05T19:06:56.421868",
     "status": "completed"
    },
    "tags": []
   },
   "outputs": [
    {
     "name": "stderr",
     "output_type": "stream",
     "text": [
      "2022-11-05 19:06:56.592739: I tensorflow/stream_executor/cuda/cuda_gpu_executor.cc:937] successful NUMA node read from SysFS had negative value (-1), but there must be at least one NUMA node, so returning NUMA node zero\n",
      "2022-11-05 19:06:56.593672: I tensorflow/stream_executor/cuda/cuda_gpu_executor.cc:937] successful NUMA node read from SysFS had negative value (-1), but there must be at least one NUMA node, so returning NUMA node zero\n",
      "2022-11-05 19:06:56.891394: I tensorflow/stream_executor/cuda/cuda_gpu_executor.cc:937] successful NUMA node read from SysFS had negative value (-1), but there must be at least one NUMA node, so returning NUMA node zero\n",
      "2022-11-05 19:06:56.892225: I tensorflow/stream_executor/cuda/cuda_gpu_executor.cc:937] successful NUMA node read from SysFS had negative value (-1), but there must be at least one NUMA node, so returning NUMA node zero\n",
      "2022-11-05 19:06:56.893030: I tensorflow/stream_executor/cuda/cuda_gpu_executor.cc:937] successful NUMA node read from SysFS had negative value (-1), but there must be at least one NUMA node, so returning NUMA node zero\n",
      "2022-11-05 19:06:56.893835: I tensorflow/stream_executor/cuda/cuda_gpu_executor.cc:937] successful NUMA node read from SysFS had negative value (-1), but there must be at least one NUMA node, so returning NUMA node zero\n",
      "2022-11-05 19:06:56.895241: I tensorflow/core/platform/cpu_feature_guard.cc:142] This TensorFlow binary is optimized with oneAPI Deep Neural Network Library (oneDNN) to use the following CPU instructions in performance-critical operations:  AVX2 AVX512F FMA\n",
      "To enable them in other operations, rebuild TensorFlow with the appropriate compiler flags.\n",
      "2022-11-05 19:06:57.141040: I tensorflow/stream_executor/cuda/cuda_gpu_executor.cc:937] successful NUMA node read from SysFS had negative value (-1), but there must be at least one NUMA node, so returning NUMA node zero\n",
      "2022-11-05 19:06:57.141915: I tensorflow/stream_executor/cuda/cuda_gpu_executor.cc:937] successful NUMA node read from SysFS had negative value (-1), but there must be at least one NUMA node, so returning NUMA node zero\n",
      "2022-11-05 19:06:57.142686: I tensorflow/stream_executor/cuda/cuda_gpu_executor.cc:937] successful NUMA node read from SysFS had negative value (-1), but there must be at least one NUMA node, so returning NUMA node zero\n",
      "2022-11-05 19:06:57.143382: I tensorflow/stream_executor/cuda/cuda_gpu_executor.cc:937] successful NUMA node read from SysFS had negative value (-1), but there must be at least one NUMA node, so returning NUMA node zero\n",
      "2022-11-05 19:06:57.144062: I tensorflow/stream_executor/cuda/cuda_gpu_executor.cc:937] successful NUMA node read from SysFS had negative value (-1), but there must be at least one NUMA node, so returning NUMA node zero\n",
      "2022-11-05 19:06:57.144813: I tensorflow/stream_executor/cuda/cuda_gpu_executor.cc:937] successful NUMA node read from SysFS had negative value (-1), but there must be at least one NUMA node, so returning NUMA node zero\n",
      "2022-11-05 19:07:02.577530: I tensorflow/stream_executor/cuda/cuda_gpu_executor.cc:937] successful NUMA node read from SysFS had negative value (-1), but there must be at least one NUMA node, so returning NUMA node zero\n",
      "2022-11-05 19:07:02.578424: I tensorflow/stream_executor/cuda/cuda_gpu_executor.cc:937] successful NUMA node read from SysFS had negative value (-1), but there must be at least one NUMA node, so returning NUMA node zero\n",
      "2022-11-05 19:07:02.579146: I tensorflow/stream_executor/cuda/cuda_gpu_executor.cc:937] successful NUMA node read from SysFS had negative value (-1), but there must be at least one NUMA node, so returning NUMA node zero\n",
      "2022-11-05 19:07:02.579853: I tensorflow/stream_executor/cuda/cuda_gpu_executor.cc:937] successful NUMA node read from SysFS had negative value (-1), but there must be at least one NUMA node, so returning NUMA node zero\n",
      "2022-11-05 19:07:02.580587: I tensorflow/stream_executor/cuda/cuda_gpu_executor.cc:937] successful NUMA node read from SysFS had negative value (-1), but there must be at least one NUMA node, so returning NUMA node zero\n",
      "2022-11-05 19:07:02.581267: I tensorflow/core/common_runtime/gpu/gpu_device.cc:1510] Created device /job:localhost/replica:0/task:0/device:GPU:0 with 13789 MB memory:  -> device: 0, name: Tesla T4, pci bus id: 0000:00:04.0, compute capability: 7.5\n",
      "2022-11-05 19:07:02.586272: I tensorflow/stream_executor/cuda/cuda_gpu_executor.cc:937] successful NUMA node read from SysFS had negative value (-1), but there must be at least one NUMA node, so returning NUMA node zero\n",
      "2022-11-05 19:07:02.586968: I tensorflow/core/common_runtime/gpu/gpu_device.cc:1510] Created device /job:localhost/replica:0/task:0/device:GPU:1 with 13789 MB memory:  -> device: 1, name: Tesla T4, pci bus id: 0000:00:05.0, compute capability: 7.5\n"
     ]
    }
   ],
   "source": [
    "model = Sequential()\n",
    "# Three layers, Final Output is in an array of 10 predictions\n",
    "model.add(LSTM(400, return_sequences=True, input_shape=(7,3)))\n",
    "model.add(LSTM(350, return_sequences=True))\n",
    "model.add(LSTM(300, return_sequences=True))\n",
    "model.add(LSTM(250, return_sequences=True))\n",
    "model.add(LSTM(200, return_sequences=True))\n",
    "model.add(LSTM(150, return_sequences=True))\n",
    "model.add(LSTM(50, return_sequences=False))\n",
    "model.add(Dense(25))\n",
    "model.add(Dense(20))\n",
    "model.add(Dense(25))\n",
    "model.add(Dense(10))\n",
    "model.add(Dense(5))\n",
    "model.add(Dense(1))\n",
    "          "
   ]
  },
  {
   "cell_type": "code",
   "execution_count": 9,
   "id": "2ac2aff4",
   "metadata": {
    "execution": {
     "iopub.execute_input": "2022-11-05T19:07:04.616478Z",
     "iopub.status.busy": "2022-11-05T19:07:04.616164Z",
     "iopub.status.idle": "2022-11-05T19:07:04.628665Z",
     "shell.execute_reply": "2022-11-05T19:07:04.627830Z"
    },
    "papermill": {
     "duration": 0.021675,
     "end_time": "2022-11-05T19:07:04.630623",
     "exception": false,
     "start_time": "2022-11-05T19:07:04.608948",
     "status": "completed"
    },
    "tags": []
   },
   "outputs": [],
   "source": [
    "model.compile(optimizer=\"Adam\", loss='mean_squared_error') # Compling the Model"
   ]
  },
  {
   "cell_type": "code",
   "execution_count": 10,
   "id": "81da638a",
   "metadata": {
    "execution": {
     "iopub.execute_input": "2022-11-05T19:07:04.644618Z",
     "iopub.status.busy": "2022-11-05T19:07:04.644328Z",
     "iopub.status.idle": "2022-11-05T19:07:04.648698Z",
     "shell.execute_reply": "2022-11-05T19:07:04.647656Z"
    },
    "papermill": {
     "duration": 0.013787,
     "end_time": "2022-11-05T19:07:04.650714",
     "exception": false,
     "start_time": "2022-11-05T19:07:04.636927",
     "status": "completed"
    },
    "tags": []
   },
   "outputs": [],
   "source": [
    "callback = [EarlyStopping(monitor='loss', patience=10, verbose=1, mode='min')]"
   ]
  },
  {
   "cell_type": "code",
   "execution_count": 11,
   "id": "6d115b25",
   "metadata": {
    "execution": {
     "iopub.execute_input": "2022-11-05T19:07:04.665374Z",
     "iopub.status.busy": "2022-11-05T19:07:04.663973Z",
     "iopub.status.idle": "2022-11-05T19:16:17.176615Z",
     "shell.execute_reply": "2022-11-05T19:16:17.175307Z"
    },
    "papermill": {
     "duration": 552.521768,
     "end_time": "2022-11-05T19:16:17.178707",
     "exception": false,
     "start_time": "2022-11-05T19:07:04.656939",
     "status": "completed"
    },
    "tags": []
   },
   "outputs": [
    {
     "name": "stderr",
     "output_type": "stream",
     "text": [
      "2022-11-05 19:07:04.783190: I tensorflow/compiler/mlir/mlir_graph_optimization_pass.cc:185] None of the MLIR Optimization Passes are enabled (registered 2)\n"
     ]
    },
    {
     "name": "stdout",
     "output_type": "stream",
     "text": [
      "Epoch 1/500\n"
     ]
    },
    {
     "name": "stderr",
     "output_type": "stream",
     "text": [
      "2022-11-05 19:07:14.409021: I tensorflow/stream_executor/cuda/cuda_dnn.cc:369] Loaded cuDNN version 8005\n"
     ]
    },
    {
     "name": "stdout",
     "output_type": "stream",
     "text": [
      "26/26 [==============================] - 26s 478ms/step - loss: 0.0896\n",
      "Epoch 2/500\n",
      "26/26 [==============================] - 13s 490ms/step - loss: 0.0305\n",
      "Epoch 3/500\n",
      "26/26 [==============================] - 13s 496ms/step - loss: 0.0018\n",
      "Epoch 4/500\n",
      "26/26 [==============================] - 13s 508ms/step - loss: 4.4299e-04\n",
      "Epoch 5/500\n",
      "26/26 [==============================] - 13s 518ms/step - loss: 2.1572e-04\n",
      "Epoch 6/500\n",
      "26/26 [==============================] - 14s 521ms/step - loss: 1.3193e-04\n",
      "Epoch 7/500\n",
      "26/26 [==============================] - 14s 539ms/step - loss: 8.6394e-05\n",
      "Epoch 8/500\n",
      "26/26 [==============================] - 14s 553ms/step - loss: 5.9872e-05\n",
      "Epoch 9/500\n",
      "26/26 [==============================] - 15s 559ms/step - loss: 4.2186e-05\n",
      "Epoch 10/500\n",
      "26/26 [==============================] - 15s 571ms/step - loss: 2.9942e-05\n",
      "Epoch 11/500\n",
      "26/26 [==============================] - 15s 585ms/step - loss: 2.1023e-05\n",
      "Epoch 12/500\n",
      "26/26 [==============================] - 15s 573ms/step - loss: 1.4331e-05\n",
      "Epoch 13/500\n",
      "26/26 [==============================] - 15s 568ms/step - loss: 9.4741e-06\n",
      "Epoch 14/500\n",
      "26/26 [==============================] - 15s 568ms/step - loss: 5.7420e-06\n",
      "Epoch 15/500\n",
      "26/26 [==============================] - 15s 572ms/step - loss: 3.3387e-06\n",
      "Epoch 16/500\n",
      "26/26 [==============================] - 15s 571ms/step - loss: 2.0099e-06\n",
      "Epoch 17/500\n",
      "26/26 [==============================] - 15s 574ms/step - loss: 1.0944e-06\n",
      "Epoch 18/500\n",
      "26/26 [==============================] - 15s 571ms/step - loss: 9.4145e-07\n",
      "Epoch 19/500\n",
      "26/26 [==============================] - 15s 573ms/step - loss: 1.0049e-04\n",
      "Epoch 20/500\n",
      "26/26 [==============================] - 15s 572ms/step - loss: 4.3120e-05\n",
      "Epoch 21/500\n",
      "26/26 [==============================] - 15s 574ms/step - loss: 3.5794e-06\n",
      "Epoch 22/500\n",
      "26/26 [==============================] - 15s 575ms/step - loss: 1.0440e-06\n",
      "Epoch 23/500\n",
      "26/26 [==============================] - 15s 576ms/step - loss: 1.5857e-06\n",
      "Epoch 24/500\n",
      "26/26 [==============================] - 15s 576ms/step - loss: 1.7875e-04\n",
      "Epoch 25/500\n",
      "26/26 [==============================] - 15s 574ms/step - loss: 1.9246e-05\n",
      "Epoch 26/500\n",
      "26/26 [==============================] - 15s 575ms/step - loss: 1.4390e-06\n",
      "Epoch 27/500\n",
      "26/26 [==============================] - 15s 575ms/step - loss: 5.7630e-07\n",
      "Epoch 28/500\n",
      "26/26 [==============================] - 15s 575ms/step - loss: 2.4608e-06\n",
      "Epoch 29/500\n",
      "26/26 [==============================] - 15s 573ms/step - loss: 1.3378e-04\n",
      "Epoch 30/500\n",
      "26/26 [==============================] - 15s 572ms/step - loss: 1.0436e-05\n",
      "Epoch 31/500\n",
      "26/26 [==============================] - 15s 572ms/step - loss: 1.4327e-06\n",
      "Epoch 32/500\n",
      "26/26 [==============================] - 15s 572ms/step - loss: 4.1127e-06\n",
      "Epoch 33/500\n",
      "26/26 [==============================] - 15s 572ms/step - loss: 1.5521e-04\n",
      "Epoch 34/500\n",
      "26/26 [==============================] - 15s 571ms/step - loss: 1.3267e-05\n",
      "Epoch 35/500\n",
      "26/26 [==============================] - 15s 572ms/step - loss: 1.1139e-06\n",
      "Epoch 36/500\n",
      "26/26 [==============================] - 15s 570ms/step - loss: 2.6706e-06\n",
      "Epoch 37/500\n",
      "26/26 [==============================] - 15s 572ms/step - loss: 1.1178e-04\n",
      "Epoch 00037: early stopping\n"
     ]
    }
   ],
   "source": [
    "modeled = model.fit(X_Train, Y_Train, batch_size=10000, epochs=500, callbacks=callback) # Training the model"
   ]
  },
  {
   "cell_type": "markdown",
   "id": "54e076d7",
   "metadata": {
    "papermill": {
     "duration": 0.057606,
     "end_time": "2022-11-05T19:16:17.296632",
     "exception": false,
     "start_time": "2022-11-05T19:16:17.239026",
     "status": "completed"
    },
    "tags": []
   },
   "source": [
    "# **Testing the Model**"
   ]
  },
  {
   "cell_type": "code",
   "execution_count": 12,
   "id": "6a18d208",
   "metadata": {
    "execution": {
     "iopub.execute_input": "2022-11-05T19:16:17.413022Z",
     "iopub.status.busy": "2022-11-05T19:16:17.412123Z",
     "iopub.status.idle": "2022-11-05T19:16:56.781591Z",
     "shell.execute_reply": "2022-11-05T19:16:56.780419Z"
    },
    "papermill": {
     "duration": 39.431029,
     "end_time": "2022-11-05T19:16:56.784226",
     "exception": false,
     "start_time": "2022-11-05T19:16:17.353197",
     "status": "completed"
    },
    "tags": []
   },
   "outputs": [],
   "source": [
    "#x = X_Test.reshape(-1,1)\n",
    "predictions = model.predict(X_Test)\n",
    "predictions = to_inverse_scale.inverse_transform(predictions) # Reverse the standardization.\n",
    "#predictions\n"
   ]
  },
  {
   "cell_type": "code",
   "execution_count": 13,
   "id": "32609f2f",
   "metadata": {
    "execution": {
     "iopub.execute_input": "2022-11-05T19:16:56.901052Z",
     "iopub.status.busy": "2022-11-05T19:16:56.900405Z",
     "iopub.status.idle": "2022-11-05T19:16:56.943082Z",
     "shell.execute_reply": "2022-11-05T19:16:56.942209Z"
    },
    "papermill": {
     "duration": 0.10302,
     "end_time": "2022-11-05T19:16:56.945275",
     "exception": false,
     "start_time": "2022-11-05T19:16:56.842255",
     "status": "completed"
    },
    "tags": []
   },
   "outputs": [],
   "source": [
    "# Putting the predictions in an array to convert into dataframe column later.\n",
    "valid = []\n",
    "for i in range(len(predictions)):\n",
    "    valid.append(predictions[i][0]) # Using the final prediction in the array.\n",
    "    "
   ]
  },
  {
   "cell_type": "markdown",
   "id": "3618a5ce",
   "metadata": {
    "papermill": {
     "duration": 0.057457,
     "end_time": "2022-11-05T19:16:57.060094",
     "exception": false,
     "start_time": "2022-11-05T19:16:57.002637",
     "status": "completed"
    },
    "tags": []
   },
   "source": [
    "# **Validating the Results**"
   ]
  },
  {
   "cell_type": "code",
   "execution_count": 14,
   "id": "10d2503b",
   "metadata": {
    "execution": {
     "iopub.execute_input": "2022-11-05T19:16:57.240483Z",
     "iopub.status.busy": "2022-11-05T19:16:57.240130Z",
     "iopub.status.idle": "2022-11-05T19:16:57.278762Z",
     "shell.execute_reply": "2022-11-05T19:16:57.277533Z"
    },
    "papermill": {
     "duration": 0.164369,
     "end_time": "2022-11-05T19:16:57.281335",
     "exception": false,
     "start_time": "2022-11-05T19:16:57.116966",
     "status": "completed"
    },
    "tags": []
   },
   "outputs": [
    {
     "data": {
      "text/html": [
       "<div>\n",
       "<style scoped>\n",
       "    .dataframe tbody tr th:only-of-type {\n",
       "        vertical-align: middle;\n",
       "    }\n",
       "\n",
       "    .dataframe tbody tr th {\n",
       "        vertical-align: top;\n",
       "    }\n",
       "\n",
       "    .dataframe thead th {\n",
       "        text-align: right;\n",
       "    }\n",
       "</style>\n",
       "<table border=\"1\" class=\"dataframe\">\n",
       "  <thead>\n",
       "    <tr style=\"text-align: right;\">\n",
       "      <th></th>\n",
       "      <th>close</th>\n",
       "      <th>Prediction</th>\n",
       "    </tr>\n",
       "    <tr>\n",
       "      <th>date</th>\n",
       "      <th></th>\n",
       "      <th></th>\n",
       "    </tr>\n",
       "  </thead>\n",
       "  <tbody>\n",
       "    <tr>\n",
       "      <th>2022-06-24 07:19:00</th>\n",
       "      <td>1137.57</td>\n",
       "      <td>1124.407837</td>\n",
       "    </tr>\n",
       "    <tr>\n",
       "      <th>2022-06-24 07:20:00</th>\n",
       "      <td>1136.92</td>\n",
       "      <td>1124.847534</td>\n",
       "    </tr>\n",
       "    <tr>\n",
       "      <th>2022-06-24 07:21:00</th>\n",
       "      <td>1135.86</td>\n",
       "      <td>1124.111206</td>\n",
       "    </tr>\n",
       "    <tr>\n",
       "      <th>2022-06-24 07:22:00</th>\n",
       "      <td>1136.98</td>\n",
       "      <td>1125.168213</td>\n",
       "    </tr>\n",
       "    <tr>\n",
       "      <th>2022-06-24 07:23:00</th>\n",
       "      <td>1137.51</td>\n",
       "      <td>1125.983154</td>\n",
       "    </tr>\n",
       "    <tr>\n",
       "      <th>...</th>\n",
       "      <td>...</td>\n",
       "      <td>...</td>\n",
       "    </tr>\n",
       "    <tr>\n",
       "      <th>2022-09-07 00:04:00</th>\n",
       "      <td>1565.57</td>\n",
       "      <td>1552.329102</td>\n",
       "    </tr>\n",
       "    <tr>\n",
       "      <th>2022-09-07 00:05:00</th>\n",
       "      <td>1565.64</td>\n",
       "      <td>1552.585815</td>\n",
       "    </tr>\n",
       "    <tr>\n",
       "      <th>2022-09-07 00:06:00</th>\n",
       "      <td>1564.37</td>\n",
       "      <td>1552.183350</td>\n",
       "    </tr>\n",
       "    <tr>\n",
       "      <th>2022-09-07 00:07:00</th>\n",
       "      <td>1564.86</td>\n",
       "      <td>1552.133423</td>\n",
       "    </tr>\n",
       "    <tr>\n",
       "      <th>2022-09-07 00:08:00</th>\n",
       "      <td>1565.86</td>\n",
       "      <td>1552.183716</td>\n",
       "    </tr>\n",
       "  </tbody>\n",
       "</table>\n",
       "<p>107570 rows × 2 columns</p>\n",
       "</div>"
      ],
      "text/plain": [
       "                       close   Prediction\n",
       "date                                     \n",
       "2022-06-24 07:19:00  1137.57  1124.407837\n",
       "2022-06-24 07:20:00  1136.92  1124.847534\n",
       "2022-06-24 07:21:00  1135.86  1124.111206\n",
       "2022-06-24 07:22:00  1136.98  1125.168213\n",
       "2022-06-24 07:23:00  1137.51  1125.983154\n",
       "...                      ...          ...\n",
       "2022-09-07 00:04:00  1565.57  1552.329102\n",
       "2022-09-07 00:05:00  1565.64  1552.585815\n",
       "2022-09-07 00:06:00  1564.37  1552.183350\n",
       "2022-09-07 00:07:00  1564.86  1552.133423\n",
       "2022-09-07 00:08:00  1565.86  1552.183716\n",
       "\n",
       "[107570 rows x 2 columns]"
      ]
     },
     "execution_count": 14,
     "metadata": {},
     "output_type": "execute_result"
    }
   ],
   "source": [
    "new_df = pd.DataFrame(df[train_no: total_no - 1])\n",
    "new_df = new_df.drop([\"high\",\"low\"], axis=1)\n",
    "new_df['Prediction'] = valid\n",
    "\n",
    "\n",
    "new_df"
   ]
  },
  {
   "cell_type": "code",
   "execution_count": 15,
   "id": "027be0ce",
   "metadata": {
    "execution": {
     "iopub.execute_input": "2022-11-05T19:16:57.399055Z",
     "iopub.status.busy": "2022-11-05T19:16:57.398721Z",
     "iopub.status.idle": "2022-11-05T19:16:58.915430Z",
     "shell.execute_reply": "2022-11-05T19:16:58.914459Z"
    },
    "papermill": {
     "duration": 1.577517,
     "end_time": "2022-11-05T19:16:58.917637",
     "exception": false,
     "start_time": "2022-11-05T19:16:57.340120",
     "status": "completed"
    },
    "tags": []
   },
   "outputs": [
    {
     "data": {
      "text/plain": [
       "<AxesSubplot:xlabel='date'>"
      ]
     },
     "execution_count": 15,
     "metadata": {},
     "output_type": "execute_result"
    },
    {
     "data": {
      "image/png": "[encoded data removed]",
      "text/plain": [
       "<Figure size 432x288 with 1 Axes>"
      ]
     },
     "metadata": {
      "needs_background": "light"
     },
     "output_type": "display_data"
    }
   ],
   "source": [
    "new_df.plot()"
   ]
  },
  {
   "cell_type": "code",
   "execution_count": 16,
   "id": "a6b6810a",
   "metadata": {
    "execution": {
     "iopub.execute_input": "2022-11-05T19:16:59.037321Z",
     "iopub.status.busy": "2022-11-05T19:16:59.036648Z",
     "iopub.status.idle": "2022-11-05T19:16:59.052459Z",
     "shell.execute_reply": "2022-11-05T19:16:59.051637Z"
    },
    "papermill": {
     "duration": 0.07856,
     "end_time": "2022-11-05T19:16:59.054822",
     "exception": false,
     "start_time": "2022-11-05T19:16:58.976262",
     "status": "completed"
    },
    "tags": []
   },
   "outputs": [
    {
     "data": {
      "text/html": [
       "<div>\n",
       "<style scoped>\n",
       "    .dataframe tbody tr th:only-of-type {\n",
       "        vertical-align: middle;\n",
       "    }\n",
       "\n",
       "    .dataframe tbody tr th {\n",
       "        vertical-align: top;\n",
       "    }\n",
       "\n",
       "    .dataframe thead th {\n",
       "        text-align: right;\n",
       "    }\n",
       "</style>\n",
       "<table border=\"1\" class=\"dataframe\">\n",
       "  <thead>\n",
       "    <tr style=\"text-align: right;\">\n",
       "      <th></th>\n",
       "      <th>close</th>\n",
       "      <th>Prediction</th>\n",
       "    </tr>\n",
       "  </thead>\n",
       "  <tbody>\n",
       "    <tr>\n",
       "      <th>close</th>\n",
       "      <td>1.000000</td>\n",
       "      <td>0.999987</td>\n",
       "    </tr>\n",
       "    <tr>\n",
       "      <th>Prediction</th>\n",
       "      <td>0.999987</td>\n",
       "      <td>1.000000</td>\n",
       "    </tr>\n",
       "  </tbody>\n",
       "</table>\n",
       "</div>"
      ],
      "text/plain": [
       "               close  Prediction\n",
       "close       1.000000    0.999987\n",
       "Prediction  0.999987    1.000000"
      ]
     },
     "execution_count": 16,
     "metadata": {},
     "output_type": "execute_result"
    }
   ],
   "source": [
    "new_df.corr() # Accuracy around 99.5%"
   ]
  },
  {
   "cell_type": "code",
   "execution_count": 17,
   "id": "5fa1279c",
   "metadata": {
    "execution": {
     "iopub.execute_input": "2022-11-05T19:16:59.173671Z",
     "iopub.status.busy": "2022-11-05T19:16:59.173319Z",
     "iopub.status.idle": "2022-11-05T19:16:59.203369Z",
     "shell.execute_reply": "2022-11-05T19:16:59.202357Z"
    },
    "papermill": {
     "duration": 0.091981,
     "end_time": "2022-11-05T19:16:59.205493",
     "exception": false,
     "start_time": "2022-11-05T19:16:59.113512",
     "status": "completed"
    },
    "tags": []
   },
   "outputs": [
    {
     "data": {
      "text/html": [
       "<div>\n",
       "<style scoped>\n",
       "    .dataframe tbody tr th:only-of-type {\n",
       "        vertical-align: middle;\n",
       "    }\n",
       "\n",
       "    .dataframe tbody tr th {\n",
       "        vertical-align: top;\n",
       "    }\n",
       "\n",
       "    .dataframe thead th {\n",
       "        text-align: right;\n",
       "    }\n",
       "</style>\n",
       "<table border=\"1\" class=\"dataframe\">\n",
       "  <thead>\n",
       "    <tr style=\"text-align: right;\">\n",
       "      <th></th>\n",
       "      <th>High</th>\n",
       "      <th>Low</th>\n",
       "      <th>Close</th>\n",
       "    </tr>\n",
       "    <tr>\n",
       "      <th>Date</th>\n",
       "      <th></th>\n",
       "      <th></th>\n",
       "      <th></th>\n",
       "    </tr>\n",
       "  </thead>\n",
       "  <tbody>\n",
       "    <tr>\n",
       "      <th>2021-11-05</th>\n",
       "      <td>4570.895996</td>\n",
       "      <td>4447.487305</td>\n",
       "      <td>4486.243164</td>\n",
       "    </tr>\n",
       "    <tr>\n",
       "      <th>2021-11-06</th>\n",
       "      <td>4530.997070</td>\n",
       "      <td>4334.973633</td>\n",
       "      <td>4521.581055</td>\n",
       "    </tr>\n",
       "    <tr>\n",
       "      <th>2021-11-07</th>\n",
       "      <td>4640.921875</td>\n",
       "      <td>4510.984375</td>\n",
       "      <td>4620.554688</td>\n",
       "    </tr>\n",
       "    <tr>\n",
       "      <th>2021-11-08</th>\n",
       "      <td>4822.363281</td>\n",
       "      <td>4619.649414</td>\n",
       "      <td>4812.087402</td>\n",
       "    </tr>\n",
       "    <tr>\n",
       "      <th>2021-11-09</th>\n",
       "      <td>4837.589355</td>\n",
       "      <td>4718.039063</td>\n",
       "      <td>4735.068848</td>\n",
       "    </tr>\n",
       "    <tr>\n",
       "      <th>...</th>\n",
       "      <td>...</td>\n",
       "      <td>...</td>\n",
       "      <td>...</td>\n",
       "    </tr>\n",
       "    <tr>\n",
       "      <th>2022-11-01</th>\n",
       "      <td>1606.605713</td>\n",
       "      <td>1568.098511</td>\n",
       "      <td>1579.704590</td>\n",
       "    </tr>\n",
       "    <tr>\n",
       "      <th>2022-11-02</th>\n",
       "      <td>1613.410645</td>\n",
       "      <td>1507.244751</td>\n",
       "      <td>1519.711792</td>\n",
       "    </tr>\n",
       "    <tr>\n",
       "      <th>2022-11-03</th>\n",
       "      <td>1556.759644</td>\n",
       "      <td>1517.101685</td>\n",
       "      <td>1531.541748</td>\n",
       "    </tr>\n",
       "    <tr>\n",
       "      <th>2022-11-04</th>\n",
       "      <td>1661.334717</td>\n",
       "      <td>1529.268433</td>\n",
       "      <td>1645.093384</td>\n",
       "    </tr>\n",
       "    <tr>\n",
       "      <th>2022-11-05</th>\n",
       "      <td>1660.462036</td>\n",
       "      <td>1627.401611</td>\n",
       "      <td>1638.705811</td>\n",
       "    </tr>\n",
       "  </tbody>\n",
       "</table>\n",
       "<p>366 rows × 3 columns</p>\n",
       "</div>"
      ],
      "text/plain": [
       "                   High          Low        Close\n",
       "Date                                             \n",
       "2021-11-05  4570.895996  4447.487305  4486.243164\n",
       "2021-11-06  4530.997070  4334.973633  4521.581055\n",
       "2021-11-07  4640.921875  4510.984375  4620.554688\n",
       "2021-11-08  4822.363281  4619.649414  4812.087402\n",
       "2021-11-09  4837.589355  4718.039063  4735.068848\n",
       "...                 ...          ...          ...\n",
       "2022-11-01  1606.605713  1568.098511  1579.704590\n",
       "2022-11-02  1613.410645  1507.244751  1519.711792\n",
       "2022-11-03  1556.759644  1517.101685  1531.541748\n",
       "2022-11-04  1661.334717  1529.268433  1645.093384\n",
       "2022-11-05  1660.462036  1627.401611  1638.705811\n",
       "\n",
       "[366 rows x 3 columns]"
      ]
     },
     "execution_count": 17,
     "metadata": {},
     "output_type": "execute_result"
    }
   ],
   "source": [
    "df = pd.read_csv('../input/etherum/ETH-USD.csv')\n",
    "# Removing all unessesary columns ( See Research )\n",
    "df = df = df.drop([\"Volume\", \"Adj Close\",\"Open\"], axis=1)\n",
    "df['Date'] = pd.to_datetime(df['Date'])\n",
    "df = df.sort_values(by='Date')\n",
    "df.index = df.pop(\"Date\")\n",
    "#df = df[:336]\n",
    "#tests = model.predict(test)\n",
    "#tests =to_inverse_scale.inverse_transform(tests)\n",
    "#t = []\n",
    "#for i in range(len(tests)):\n",
    "    #t.append(tests[i][0])\n",
    "df\n"
   ]
  },
  {
   "cell_type": "code",
   "execution_count": 18,
   "id": "077cef43",
   "metadata": {
    "execution": {
     "iopub.execute_input": "2022-11-05T19:16:59.326576Z",
     "iopub.status.busy": "2022-11-05T19:16:59.325011Z",
     "iopub.status.idle": "2022-11-05T19:16:59.334462Z",
     "shell.execute_reply": "2022-11-05T19:16:59.333571Z"
    },
    "papermill": {
     "duration": 0.071703,
     "end_time": "2022-11-05T19:16:59.336534",
     "exception": false,
     "start_time": "2022-11-05T19:16:59.264831",
     "status": "completed"
    },
    "tags": []
   },
   "outputs": [
    {
     "data": {
      "text/plain": [
       "(366, 3)"
      ]
     },
     "execution_count": 18,
     "metadata": {},
     "output_type": "execute_result"
    }
   ],
   "source": [
    "df_np = df.to_numpy()\n",
    "scaler = MinMaxScaler()\n",
    "df_scaled = scaler.fit_transform(df_np, (-1,1))\n",
    "df_scaled.shape"
   ]
  },
  {
   "cell_type": "code",
   "execution_count": 19,
   "id": "9d941dcb",
   "metadata": {
    "execution": {
     "iopub.execute_input": "2022-11-05T19:16:59.456272Z",
     "iopub.status.busy": "2022-11-05T19:16:59.455956Z",
     "iopub.status.idle": "2022-11-05T19:16:59.462137Z",
     "shell.execute_reply": "2022-11-05T19:16:59.461266Z"
    },
    "papermill": {
     "duration": 0.067829,
     "end_time": "2022-11-05T19:16:59.464190",
     "exception": false,
     "start_time": "2022-11-05T19:16:59.396361",
     "status": "completed"
    },
    "tags": []
   },
   "outputs": [],
   "source": [
    "test = []\n",
    "\n",
    "for i in range(len(df_scaled)-7):\n",
    "    test.append(df_scaled[i:i+7])\n",
    "    \n",
    "#test = np.array(test)\n",
    "\n",
    "test = np.array(test)"
   ]
  },
  {
   "cell_type": "code",
   "execution_count": 20,
   "id": "af0ce0b4",
   "metadata": {
    "execution": {
     "iopub.execute_input": "2022-11-05T19:16:59.582391Z",
     "iopub.status.busy": "2022-11-05T19:16:59.582082Z",
     "iopub.status.idle": "2022-11-05T19:16:59.588068Z",
     "shell.execute_reply": "2022-11-05T19:16:59.587160Z"
    },
    "papermill": {
     "duration": 0.067691,
     "end_time": "2022-11-05T19:16:59.590204",
     "exception": false,
     "start_time": "2022-11-05T19:16:59.522513",
     "status": "completed"
    },
    "tags": []
   },
   "outputs": [
    {
     "data": {
      "text/plain": [
       "(359, 7, 3)"
      ]
     },
     "execution_count": 20,
     "metadata": {},
     "output_type": "execute_result"
    }
   ],
   "source": [
    "test.shape"
   ]
  },
  {
   "cell_type": "code",
   "execution_count": 21,
   "id": "08b8403d",
   "metadata": {
    "execution": {
     "iopub.execute_input": "2022-11-05T19:16:59.708416Z",
     "iopub.status.busy": "2022-11-05T19:16:59.708108Z",
     "iopub.status.idle": "2022-11-05T19:16:59.833327Z",
     "shell.execute_reply": "2022-11-05T19:16:59.832352Z"
    },
    "papermill": {
     "duration": 0.187365,
     "end_time": "2022-11-05T19:16:59.835781",
     "exception": false,
     "start_time": "2022-11-05T19:16:59.648416",
     "status": "completed"
    },
    "tags": []
   },
   "outputs": [],
   "source": [
    "prediction = model.predict(test)\n",
    "prediction = to_inverse_scale.inverse_transform(prediction) \n",
    "\n",
    "predictions\n",
    "valid = []\n",
    "for i in range(len(prediction)):\n",
    "    valid.append(prediction[i][0]) \n",
    "    "
   ]
  },
  {
   "cell_type": "code",
   "execution_count": 22,
   "id": "06d7fbff",
   "metadata": {
    "execution": {
     "iopub.execute_input": "2022-11-05T19:16:59.956642Z",
     "iopub.status.busy": "2022-11-05T19:16:59.955019Z",
     "iopub.status.idle": "2022-11-05T19:16:59.970685Z",
     "shell.execute_reply": "2022-11-05T19:16:59.969663Z"
    },
    "papermill": {
     "duration": 0.077296,
     "end_time": "2022-11-05T19:16:59.972631",
     "exception": false,
     "start_time": "2022-11-05T19:16:59.895335",
     "status": "completed"
    },
    "tags": []
   },
   "outputs": [
    {
     "data": {
      "text/html": [
       "<div>\n",
       "<style scoped>\n",
       "    .dataframe tbody tr th:only-of-type {\n",
       "        vertical-align: middle;\n",
       "    }\n",
       "\n",
       "    .dataframe tbody tr th {\n",
       "        vertical-align: top;\n",
       "    }\n",
       "\n",
       "    .dataframe thead th {\n",
       "        text-align: right;\n",
       "    }\n",
       "</style>\n",
       "<table border=\"1\" class=\"dataframe\">\n",
       "  <thead>\n",
       "    <tr style=\"text-align: right;\">\n",
       "      <th></th>\n",
       "      <th>Close</th>\n",
       "      <th>Prediction</th>\n",
       "    </tr>\n",
       "    <tr>\n",
       "      <th>Date</th>\n",
       "      <th></th>\n",
       "      <th></th>\n",
       "    </tr>\n",
       "  </thead>\n",
       "  <tbody>\n",
       "    <tr>\n",
       "      <th>2021-11-05</th>\n",
       "      <td>4486.243164</td>\n",
       "      <td>3588.592285</td>\n",
       "    </tr>\n",
       "    <tr>\n",
       "      <th>2021-11-06</th>\n",
       "      <td>4521.581055</td>\n",
       "      <td>3618.103271</td>\n",
       "    </tr>\n",
       "    <tr>\n",
       "      <th>2021-11-07</th>\n",
       "      <td>4620.554688</td>\n",
       "      <td>3687.914307</td>\n",
       "    </tr>\n",
       "    <tr>\n",
       "      <th>2021-11-08</th>\n",
       "      <td>4812.087402</td>\n",
       "      <td>3729.815918</td>\n",
       "    </tr>\n",
       "    <tr>\n",
       "      <th>2021-11-09</th>\n",
       "      <td>4735.068848</td>\n",
       "      <td>3715.347900</td>\n",
       "    </tr>\n",
       "    <tr>\n",
       "      <th>...</th>\n",
       "      <td>...</td>\n",
       "      <td>...</td>\n",
       "    </tr>\n",
       "    <tr>\n",
       "      <th>2022-10-25</th>\n",
       "      <td>1461.665405</td>\n",
       "      <td>1270.656738</td>\n",
       "    </tr>\n",
       "    <tr>\n",
       "      <th>2022-10-26</th>\n",
       "      <td>1566.566650</td>\n",
       "      <td>1311.087769</td>\n",
       "    </tr>\n",
       "    <tr>\n",
       "      <th>2022-10-27</th>\n",
       "      <td>1514.374878</td>\n",
       "      <td>1319.609009</td>\n",
       "    </tr>\n",
       "    <tr>\n",
       "      <th>2022-10-28</th>\n",
       "      <td>1555.477905</td>\n",
       "      <td>1334.132202</td>\n",
       "    </tr>\n",
       "    <tr>\n",
       "      <th>2022-10-29</th>\n",
       "      <td>1619.698486</td>\n",
       "      <td>1354.321289</td>\n",
       "    </tr>\n",
       "  </tbody>\n",
       "</table>\n",
       "<p>359 rows × 2 columns</p>\n",
       "</div>"
      ],
      "text/plain": [
       "                  Close   Prediction\n",
       "Date                                \n",
       "2021-11-05  4486.243164  3588.592285\n",
       "2021-11-06  4521.581055  3618.103271\n",
       "2021-11-07  4620.554688  3687.914307\n",
       "2021-11-08  4812.087402  3729.815918\n",
       "2021-11-09  4735.068848  3715.347900\n",
       "...                 ...          ...\n",
       "2022-10-25  1461.665405  1270.656738\n",
       "2022-10-26  1566.566650  1311.087769\n",
       "2022-10-27  1514.374878  1319.609009\n",
       "2022-10-28  1555.477905  1334.132202\n",
       "2022-10-29  1619.698486  1354.321289\n",
       "\n",
       "[359 rows x 2 columns]"
      ]
     },
     "execution_count": 22,
     "metadata": {},
     "output_type": "execute_result"
    }
   ],
   "source": [
    "#new_df = pd.read_csv('/kaggle/input/btcdata/BTC-USD.csv')\n",
    "new_df = df[:359]\n",
    "# Removing all unessesary columns ( See Research )\n",
    "#new_df['Date'] = pd.to_datetime(new_df['Date'])\n",
    "#new_df = new_df.sort_values(by='Date')\n",
    "#new_df.index = new_df.pop(\"Date\")\n",
    "new_df = new_df.drop([ \"High\", \"Low\"], axis=1)\n",
    "new_df['Prediction'] = valid\n",
    "#new_df\n",
    "\n",
    "#valid = np.array(valid_ii)\n",
    "new_df"
   ]
  },
  {
   "cell_type": "code",
   "execution_count": 23,
   "id": "1baa8f4e",
   "metadata": {
    "execution": {
     "iopub.execute_input": "2022-11-05T19:17:00.092593Z",
     "iopub.status.busy": "2022-11-05T19:17:00.092262Z",
     "iopub.status.idle": "2022-11-05T19:17:00.486457Z",
     "shell.execute_reply": "2022-11-05T19:17:00.485510Z"
    },
    "papermill": {
     "duration": 0.456882,
     "end_time": "2022-11-05T19:17:00.488613",
     "exception": false,
     "start_time": "2022-11-05T19:17:00.031731",
     "status": "completed"
    },
    "tags": []
   },
   "outputs": [
    {
     "data": {
      "text/plain": [
       "<AxesSubplot:xlabel='Date'>"
      ]
     },
     "execution_count": 23,
     "metadata": {},
     "output_type": "execute_result"
    },
    {
     "data": {
      "image/png": "[encoded data removed]",
      "text/plain": [
       "<Figure size 432x288 with 1 Axes>"
      ]
     },
     "metadata": {
      "needs_background": "light"
     },
     "output_type": "display_data"
    }
   ],
   "source": [
    "new_df.plot()"
   ]
  }
 ],
 "metadata": {
  "kernelspec": {
   "display_name": "Python 3",
   "language": "python",
   "name": "python3"
  },
  "language_info": {
   "codemirror_mode": {
    "name": "ipython",
    "version": 3
   },
   "file_extension": ".py",
   "mimetype": "text/x-python",
   "name": "python",
   "nbconvert_exporter": "python",
   "pygments_lexer": "ipython3",
   "version": "3.7.12"
  },
  "papermill": {
   "default_parameters": {},
   "duration": 662.353508,
   "end_time": "2022-11-05T19:17:03.784287",
   "environment_variables": {},
   "exception": null,
   "input_path": "__notebook__.ipynb",
   "output_path": "__notebook__.ipynb",
   "parameters": {},
   "start_time": "2022-11-05T19:06:01.430779",
   "version": "2.3.4"
  }
 },
 "nbformat": 4,
 "nbformat_minor": 5
}
